{
 "cells": [
  {
   "cell_type": "markdown",
   "metadata": {},
   "source": [
    "# Case Study on Event Logging.\n",
    "\n",
    "##  Background\n",
    "\n",
    "*Event logging* (EL) is used to track a variety of performance and usage metrics to help on the decision making process. Specifically, the most used metrics are:\n",
    "\n",
    "- *clickthrough rate*: the proportion of search sessions where the user clicked on one of the results displayed\n",
    "- *zero results rate*: the proportion of searches that yielded 0 results\n",
    "\n",
    "Desktop users are randomly sampled to be anonymously tracked by this schema which uses a \"I'm alive\" pinging system that it is used to estimate how long users stay on the pages they visit. The dataset contains just a little more than a week of EL data.\n",
    "\n",
    "| Column          | Value   | Description                                                                       |\n",
    "|:----------------|:--------|:----------------------------------------------------------------------------------|\n",
    "| uuid            | string  | Universally unique identifier (UUID) for backend event handling.                  |\n",
    "| timestamp       | integer | The date and time (UTC) of the event, formatted as YYYYMMDDhhmmss.                |\n",
    "| session_id      | string  | A unique ID identifying individual sessions.                                      |\n",
    "| group           | string  | A label (\"a\" or \"b\").                                     |\n",
    "| action          | string  | Identifies in which the event was created. See below.                             |\n",
    "| checkin         | integer | How many seconds the page has been open for.                                      |\n",
    "| page_id         | string  | A unique identifier for correlating page visits and check-ins.                    |\n",
    "| n_results       | integer | Number of hits returned to the user. Only shown for searchResultPage events.      |\n",
    "| result_position | integer | The position of the visited page's link on the search engine results page (SERP). |\n",
    "\n",
    "The following are possible values for an event's action field:\n",
    "\n",
    "- **searchResultPage**: when a new search is performed and the user is shown a SERP.\n",
    "- **visitPage**: when the user clicks a link in the results.\n",
    "- **checkin**: when the user has remained on the page for a pre-specified amount of time."
   ]
  },
  {
   "cell_type": "markdown",
   "metadata": {},
   "source": [
    "# Importing Libraries and Reading Data"
   ]
  },
  {
   "cell_type": "code",
   "execution_count": 102,
   "metadata": {},
   "outputs": [],
   "source": [
    "import pandas as pd\n",
    "import numpy as np\n",
    "import matplotlib.pyplot as plt\n",
    "%matplotlib inline\n",
    "\n",
    "import seaborn as sns\n",
    "sns.set()\n",
    "from datetime import datetime as dt"
   ]
  },
  {
   "cell_type": "code",
   "execution_count": 103,
   "metadata": {},
   "outputs": [],
   "source": [
    "data = pd.read_csv(\"events_log.csv.gz\",parse_dates=['timestamp'])"
   ]
  },
  {
   "cell_type": "code",
   "execution_count": 104,
   "metadata": {},
   "outputs": [
    {
     "data": {
      "text/html": [
       "<div>\n",
       "<style scoped>\n",
       "    .dataframe tbody tr th:only-of-type {\n",
       "        vertical-align: middle;\n",
       "    }\n",
       "\n",
       "    .dataframe tbody tr th {\n",
       "        vertical-align: top;\n",
       "    }\n",
       "\n",
       "    .dataframe thead th {\n",
       "        text-align: right;\n",
       "    }\n",
       "</style>\n",
       "<table border=\"1\" class=\"dataframe\">\n",
       "  <thead>\n",
       "    <tr style=\"text-align: right;\">\n",
       "      <th></th>\n",
       "      <th>uuid</th>\n",
       "      <th>timestamp</th>\n",
       "      <th>session_id</th>\n",
       "      <th>group</th>\n",
       "      <th>action</th>\n",
       "      <th>checkin</th>\n",
       "      <th>page_id</th>\n",
       "      <th>n_results</th>\n",
       "      <th>result_position</th>\n",
       "    </tr>\n",
       "  </thead>\n",
       "  <tbody>\n",
       "    <tr>\n",
       "      <th>0</th>\n",
       "      <td>00000736167c507e8ec225bd9e71f9e5</td>\n",
       "      <td>20160301103842</td>\n",
       "      <td>78245c2c3fba013a</td>\n",
       "      <td>b</td>\n",
       "      <td>searchResultPage</td>\n",
       "      <td>NaN</td>\n",
       "      <td>cbeb66d1bc1f1bc2</td>\n",
       "      <td>5.0</td>\n",
       "      <td>NaN</td>\n",
       "    </tr>\n",
       "    <tr>\n",
       "      <th>1</th>\n",
       "      <td>00000c69fe345268935463abbfa5d5b3</td>\n",
       "      <td>20160307005226</td>\n",
       "      <td>c559c3be98dca8a4</td>\n",
       "      <td>a</td>\n",
       "      <td>searchResultPage</td>\n",
       "      <td>NaN</td>\n",
       "      <td>eb658e8722aad674</td>\n",
       "      <td>10.0</td>\n",
       "      <td>NaN</td>\n",
       "    </tr>\n",
       "    <tr>\n",
       "      <th>2</th>\n",
       "      <td>00003bfdab715ee59077a3670331b787</td>\n",
       "      <td>20160302145305</td>\n",
       "      <td>760bf89817ce4b08</td>\n",
       "      <td>a</td>\n",
       "      <td>checkin</td>\n",
       "      <td>30.0</td>\n",
       "      <td>f99a9fc1f7fdd21e</td>\n",
       "      <td>NaN</td>\n",
       "      <td>NaN</td>\n",
       "    </tr>\n",
       "    <tr>\n",
       "      <th>3</th>\n",
       "      <td>0000465cd7c35ad2bdeafec953e08c1a</td>\n",
       "      <td>20160302222701</td>\n",
       "      <td>fb905603d31b2071</td>\n",
       "      <td>a</td>\n",
       "      <td>checkin</td>\n",
       "      <td>60.0</td>\n",
       "      <td>e5626962a6939a75</td>\n",
       "      <td>NaN</td>\n",
       "      <td>10.0</td>\n",
       "    </tr>\n",
       "    <tr>\n",
       "      <th>4</th>\n",
       "      <td>000050cbb4ef5b42b16c4d2cf69e6358</td>\n",
       "      <td>20160302095023</td>\n",
       "      <td>c2bf5e5172a892dc</td>\n",
       "      <td>a</td>\n",
       "      <td>checkin</td>\n",
       "      <td>30.0</td>\n",
       "      <td>787dd6a4c371cbf9</td>\n",
       "      <td>NaN</td>\n",
       "      <td>NaN</td>\n",
       "    </tr>\n",
       "  </tbody>\n",
       "</table>\n",
       "</div>"
      ],
      "text/plain": [
       "                               uuid       timestamp        session_id group  \\\n",
       "0  00000736167c507e8ec225bd9e71f9e5  20160301103842  78245c2c3fba013a     b   \n",
       "1  00000c69fe345268935463abbfa5d5b3  20160307005226  c559c3be98dca8a4     a   \n",
       "2  00003bfdab715ee59077a3670331b787  20160302145305  760bf89817ce4b08     a   \n",
       "3  0000465cd7c35ad2bdeafec953e08c1a  20160302222701  fb905603d31b2071     a   \n",
       "4  000050cbb4ef5b42b16c4d2cf69e6358  20160302095023  c2bf5e5172a892dc     a   \n",
       "\n",
       "             action  checkin           page_id  n_results  result_position  \n",
       "0  searchResultPage      NaN  cbeb66d1bc1f1bc2        5.0              NaN  \n",
       "1  searchResultPage      NaN  eb658e8722aad674       10.0              NaN  \n",
       "2           checkin     30.0  f99a9fc1f7fdd21e        NaN              NaN  \n",
       "3           checkin     60.0  e5626962a6939a75        NaN             10.0  \n",
       "4           checkin     30.0  787dd6a4c371cbf9        NaN              NaN  "
      ]
     },
     "execution_count": 104,
     "metadata": {},
     "output_type": "execute_result"
    }
   ],
   "source": [
    "data.head()"
   ]
  },
  {
   "cell_type": "code",
   "execution_count": 105,
   "metadata": {},
   "outputs": [
    {
     "name": "stdout",
     "output_type": "stream",
     "text": [
      "<class 'pandas.core.frame.DataFrame'>\n",
      "RangeIndex: 400165 entries, 0 to 400164\n",
      "Data columns (total 9 columns):\n",
      " #   Column           Non-Null Count   Dtype  \n",
      "---  ------           --------------   -----  \n",
      " 0   uuid             400165 non-null  object \n",
      " 1   timestamp        400165 non-null  object \n",
      " 2   session_id       400165 non-null  object \n",
      " 3   group            400165 non-null  object \n",
      " 4   action           400165 non-null  object \n",
      " 5   checkin          223824 non-null  float64\n",
      " 6   page_id          400165 non-null  object \n",
      " 7   n_results        136234 non-null  float64\n",
      " 8   result_position  230482 non-null  float64\n",
      "dtypes: float64(3), object(6)\n",
      "memory usage: 27.5+ MB\n"
     ]
    }
   ],
   "source": [
    "data.info()"
   ]
  },
  {
   "cell_type": "code",
   "execution_count": 106,
   "metadata": {},
   "outputs": [
    {
     "data": {
      "text/html": [
       "<div>\n",
       "<style scoped>\n",
       "    .dataframe tbody tr th:only-of-type {\n",
       "        vertical-align: middle;\n",
       "    }\n",
       "\n",
       "    .dataframe tbody tr th {\n",
       "        vertical-align: top;\n",
       "    }\n",
       "\n",
       "    .dataframe thead th {\n",
       "        text-align: right;\n",
       "    }\n",
       "</style>\n",
       "<table border=\"1\" class=\"dataframe\">\n",
       "  <thead>\n",
       "    <tr style=\"text-align: right;\">\n",
       "      <th></th>\n",
       "      <th>checkin</th>\n",
       "      <th>n_results</th>\n",
       "      <th>result_position</th>\n",
       "    </tr>\n",
       "  </thead>\n",
       "  <tbody>\n",
       "    <tr>\n",
       "      <th>count</th>\n",
       "      <td>223824.000000</td>\n",
       "      <td>136234.000000</td>\n",
       "      <td>230482.000000</td>\n",
       "    </tr>\n",
       "    <tr>\n",
       "      <th>mean</th>\n",
       "      <td>97.190382</td>\n",
       "      <td>13.210109</td>\n",
       "      <td>2.992798</td>\n",
       "    </tr>\n",
       "    <tr>\n",
       "      <th>std</th>\n",
       "      <td>104.593714</td>\n",
       "      <td>13.271104</td>\n",
       "      <td>38.557292</td>\n",
       "    </tr>\n",
       "    <tr>\n",
       "      <th>min</th>\n",
       "      <td>10.000000</td>\n",
       "      <td>0.000000</td>\n",
       "      <td>1.000000</td>\n",
       "    </tr>\n",
       "    <tr>\n",
       "      <th>25%</th>\n",
       "      <td>20.000000</td>\n",
       "      <td>2.000000</td>\n",
       "      <td>1.000000</td>\n",
       "    </tr>\n",
       "    <tr>\n",
       "      <th>50%</th>\n",
       "      <td>50.000000</td>\n",
       "      <td>20.000000</td>\n",
       "      <td>1.000000</td>\n",
       "    </tr>\n",
       "    <tr>\n",
       "      <th>75%</th>\n",
       "      <td>150.000000</td>\n",
       "      <td>20.000000</td>\n",
       "      <td>2.000000</td>\n",
       "    </tr>\n",
       "    <tr>\n",
       "      <th>max</th>\n",
       "      <td>420.000000</td>\n",
       "      <td>500.000000</td>\n",
       "      <td>4103.000000</td>\n",
       "    </tr>\n",
       "  </tbody>\n",
       "</table>\n",
       "</div>"
      ],
      "text/plain": [
       "             checkin      n_results  result_position\n",
       "count  223824.000000  136234.000000    230482.000000\n",
       "mean       97.190382      13.210109         2.992798\n",
       "std       104.593714      13.271104        38.557292\n",
       "min        10.000000       0.000000         1.000000\n",
       "25%        20.000000       2.000000         1.000000\n",
       "50%        50.000000      20.000000         1.000000\n",
       "75%       150.000000      20.000000         2.000000\n",
       "max       420.000000     500.000000      4103.000000"
      ]
     },
     "execution_count": 106,
     "metadata": {},
     "output_type": "execute_result"
    }
   ],
   "source": [
    "data.describe()"
   ]
  },
  {
   "cell_type": "code",
   "execution_count": 107,
   "metadata": {},
   "outputs": [
    {
     "data": {
      "text/plain": [
       "uuid                    0\n",
       "timestamp               0\n",
       "session_id              0\n",
       "group                   0\n",
       "action                  0\n",
       "checkin            176341\n",
       "page_id                 0\n",
       "n_results          263931\n",
       "result_position    169683\n",
       "dtype: int64"
      ]
     },
     "execution_count": 107,
     "metadata": {},
     "output_type": "execute_result"
    }
   ],
   "source": [
    "#check for NaN values\n",
    "data.isnull().sum()"
   ]
  },
  {
   "cell_type": "code",
   "execution_count": 108,
   "metadata": {},
   "outputs": [
    {
     "data": {
      "text/plain": [
       "False"
      ]
     },
     "execution_count": 108,
     "metadata": {},
     "output_type": "execute_result"
    }
   ],
   "source": [
    "#check if there are duplicte rows\n",
    "data.duplicated(subset=None, keep='first').any()"
   ]
  },
  {
   "cell_type": "markdown",
   "metadata": {},
   "source": [
    "## Feature Engineering "
   ]
  },
  {
   "cell_type": "code",
   "execution_count": 109,
   "metadata": {},
   "outputs": [],
   "source": [
    "#convert timestamp to datetime\n",
    "data['timestamp'] = pd.to_datetime(data['timestamp'],errors='coerce')"
   ]
  },
  {
   "cell_type": "code",
   "execution_count": 110,
   "metadata": {},
   "outputs": [
    {
     "data": {
      "text/html": [
       "<div>\n",
       "<style scoped>\n",
       "    .dataframe tbody tr th:only-of-type {\n",
       "        vertical-align: middle;\n",
       "    }\n",
       "\n",
       "    .dataframe tbody tr th {\n",
       "        vertical-align: top;\n",
       "    }\n",
       "\n",
       "    .dataframe thead th {\n",
       "        text-align: right;\n",
       "    }\n",
       "</style>\n",
       "<table border=\"1\" class=\"dataframe\">\n",
       "  <thead>\n",
       "    <tr style=\"text-align: right;\">\n",
       "      <th></th>\n",
       "      <th>uuid</th>\n",
       "      <th>timestamp</th>\n",
       "      <th>session_id</th>\n",
       "      <th>group</th>\n",
       "      <th>action</th>\n",
       "      <th>checkin</th>\n",
       "      <th>page_id</th>\n",
       "      <th>n_results</th>\n",
       "      <th>result_position</th>\n",
       "    </tr>\n",
       "  </thead>\n",
       "  <tbody>\n",
       "    <tr>\n",
       "      <th>40952</th>\n",
       "      <td>1a5b663f6a1258f588dc4de65c90b5c0</td>\n",
       "      <td>NaT</td>\n",
       "      <td>35a29e7a78ccc24b</td>\n",
       "      <td>a</td>\n",
       "      <td>checkin</td>\n",
       "      <td>180.0</td>\n",
       "      <td>8f0d489715dd14b0</td>\n",
       "      <td>NaN</td>\n",
       "      <td>NaN</td>\n",
       "    </tr>\n",
       "    <tr>\n",
       "      <th>157636</th>\n",
       "      <td>6509e446fe7852fbb503af7d3453c6df</td>\n",
       "      <td>NaT</td>\n",
       "      <td>aa89be8089ff5694</td>\n",
       "      <td>a</td>\n",
       "      <td>checkin</td>\n",
       "      <td>420.0</td>\n",
       "      <td>2ba84fc2f11fbc92</td>\n",
       "      <td>NaN</td>\n",
       "      <td>1.0</td>\n",
       "    </tr>\n",
       "    <tr>\n",
       "      <th>221506</th>\n",
       "      <td>8d8ffe3bfba4516f9d0d8c1decbe1b76</td>\n",
       "      <td>NaT</td>\n",
       "      <td>13cd6d70d0fa2b58</td>\n",
       "      <td>a</td>\n",
       "      <td>checkin</td>\n",
       "      <td>120.0</td>\n",
       "      <td>041d0e94cde215fd</td>\n",
       "      <td>NaN</td>\n",
       "      <td>1.0</td>\n",
       "    </tr>\n",
       "    <tr>\n",
       "      <th>348288</th>\n",
       "      <td>deac7c11f00d598292f9e18ee2f6997f</td>\n",
       "      <td>NaT</td>\n",
       "      <td>426b242692d66473</td>\n",
       "      <td>a</td>\n",
       "      <td>searchResultPage</td>\n",
       "      <td>NaN</td>\n",
       "      <td>2ab3d9ca41b16173</td>\n",
       "      <td>20.0</td>\n",
       "      <td>NaN</td>\n",
       "    </tr>\n",
       "  </tbody>\n",
       "</table>\n",
       "</div>"
      ],
      "text/plain": [
       "                                    uuid timestamp        session_id group  \\\n",
       "40952   1a5b663f6a1258f588dc4de65c90b5c0       NaT  35a29e7a78ccc24b     a   \n",
       "157636  6509e446fe7852fbb503af7d3453c6df       NaT  aa89be8089ff5694     a   \n",
       "221506  8d8ffe3bfba4516f9d0d8c1decbe1b76       NaT  13cd6d70d0fa2b58     a   \n",
       "348288  deac7c11f00d598292f9e18ee2f6997f       NaT  426b242692d66473     a   \n",
       "\n",
       "                  action  checkin           page_id  n_results  \\\n",
       "40952            checkin    180.0  8f0d489715dd14b0        NaN   \n",
       "157636           checkin    420.0  2ba84fc2f11fbc92        NaN   \n",
       "221506           checkin    120.0  041d0e94cde215fd        NaN   \n",
       "348288  searchResultPage      NaN  2ab3d9ca41b16173       20.0   \n",
       "\n",
       "        result_position  \n",
       "40952               NaN  \n",
       "157636              1.0  \n",
       "221506              1.0  \n",
       "348288              NaN  "
      ]
     },
     "execution_count": 110,
     "metadata": {},
     "output_type": "execute_result"
    }
   ],
   "source": [
    "data[data.timestamp.isna()]"
   ]
  },
  {
   "cell_type": "code",
   "execution_count": 111,
   "metadata": {},
   "outputs": [],
   "source": [
    "#as there are just 4 rows that were affected, dropping them will not impact the analysis, thus, dropping them\n",
    "data = data.dropna(subset=['timestamp'])"
   ]
  },
  {
   "cell_type": "code",
   "execution_count": 112,
   "metadata": {},
   "outputs": [],
   "source": [
    "#add new columns\n",
    "data['day'] = data['timestamp'].dt.day\n",
    "data['month'] = data['timestamp'].dt.month\n",
    "data['year'] = data['timestamp'].dt.year"
   ]
  },
  {
   "cell_type": "code",
   "execution_count": 113,
   "metadata": {},
   "outputs": [
    {
     "data": {
      "text/plain": [
       "1"
      ]
     },
     "execution_count": 113,
     "metadata": {},
     "output_type": "execute_result"
    }
   ],
   "source": [
    "#confirms the dataset has 1 year -> 2016\n",
    "data['year'].nunique()"
   ]
  },
  {
   "cell_type": "code",
   "execution_count": 114,
   "metadata": {},
   "outputs": [
    {
     "data": {
      "text/plain": [
       "1"
      ]
     },
     "execution_count": 114,
     "metadata": {},
     "output_type": "execute_result"
    }
   ],
   "source": [
    "#confirms the dataset has 1 month -> 03\n",
    "data['month'].nunique()"
   ]
  },
  {
   "cell_type": "code",
   "execution_count": 115,
   "metadata": {},
   "outputs": [
    {
     "data": {
      "text/plain": [
       "8"
      ]
     },
     "execution_count": 115,
     "metadata": {},
     "output_type": "execute_result"
    }
   ],
   "source": [
    "data['day'].nunique()"
   ]
  },
  {
   "cell_type": "code",
   "execution_count": 116,
   "metadata": {},
   "outputs": [
    {
     "data": {
      "text/plain": [
       "array([1, 7, 2, 3, 5, 8, 6, 4], dtype=int64)"
      ]
     },
     "execution_count": 116,
     "metadata": {},
     "output_type": "execute_result"
    }
   ],
   "source": [
    "data['day'].unique()"
   ]
  },
  {
   "cell_type": "code",
   "execution_count": 117,
   "metadata": {},
   "outputs": [
    {
     "data": {
      "text/plain": [
       "array(['b', 'a'], dtype=object)"
      ]
     },
     "execution_count": 117,
     "metadata": {},
     "output_type": "execute_result"
    }
   ],
   "source": [
    "data['group'].unique()"
   ]
  },
  {
   "cell_type": "markdown",
   "metadata": {},
   "source": [
    "# 1. What is the daily overall clickthrough rate? How does it vary between the groups?"
   ]
  },
  {
   "cell_type": "markdown",
   "metadata": {},
   "source": [
    "#### Overall CTR"
   ]
  },
  {
   "cell_type": "code",
   "execution_count": 118,
   "metadata": {},
   "outputs": [
    {
     "name": "stdout",
     "output_type": "stream",
     "text": [
      "The Overall Daily Click-Through Rate is 0.1945\n"
     ]
    }
   ],
   "source": [
    "#Day 01\n",
    "CTR_01 = (len(data[((data.action == 'searchResultPage') | (data.action == 'visitPage'))  & (data.day == 1)].groupby('session_id').mean().dropna(subset=['result_position'])))/(len(data[(data.action == 'searchResultPage') & (data.day == 1)]))\n",
    "#Day 02\n",
    "CTR_02 = (len(data[((data.action == 'searchResultPage') | (data.action == 'visitPage'))  & (data.day == 2)].groupby('session_id').mean().dropna(subset=['result_position'])))/(len(data[(data.action == 'searchResultPage') & (data.day == 2)]))\n",
    "#Day 03\n",
    "CTR_03 = (len(data[((data.action == 'searchResultPage') | (data.action == 'visitPage'))  & (data.day == 3)].groupby('session_id').mean().dropna(subset=['result_position'])))/(len(data[(data.action == 'searchResultPage') & (data.day == 3)]))\n",
    "#Day 04\n",
    "CTR_04 = (len(data[((data.action == 'searchResultPage') | (data.action == 'visitPage'))  & (data.day == 4)].groupby('session_id').mean().dropna(subset=['result_position'])))/(len(data[(data.action == 'searchResultPage') & (data.day == 4)]))\n",
    "#Day 05\n",
    "CTR_05 = (len(data[((data.action == 'searchResultPage') | (data.action == 'visitPage'))  & (data.day == 5)].groupby('session_id').mean().dropna(subset=['result_position'])))/(len(data[(data.action == 'searchResultPage') & (data.day == 5)]))\n",
    "#Day 06\n",
    "CTR_06 = (len(data[((data.action == 'searchResultPage') | (data.action == 'visitPage'))  & (data.day == 6)].groupby('session_id').mean().dropna(subset=['result_position'])))/(len(data[(data.action == 'searchResultPage') & (data.day == 6)]))\n",
    "#Day 07\n",
    "CTR_07 = (len(data[((data.action == 'searchResultPage') | (data.action == 'visitPage'))  & (data.day == 7)].groupby('session_id').mean().dropna(subset=['result_position'])))/(len(data[(data.action == 'searchResultPage') & (data.day == 7)]))\n",
    "#Day 08\n",
    "CTR_08 = (len(data[((data.action == 'searchResultPage') | (data.action == 'visitPage'))  & (data.day == 8)].groupby('session_id').mean().dropna(subset=['result_position'])))/(len(data[(data.action == 'searchResultPage') & (data.day == 8)]))\n",
    "\n",
    "#Overall Daily CTR\n",
    "CTR_arr = [round(CTR_01,3),round(CTR_02,3),round(CTR_03,3),round(CTR_04,3),round(CTR_05,3),round(CTR_06,3),round(CTR_07,3),round(CTR_08,3)]\n",
    "CTR_daily = np.average(CTR_arr)\n",
    "print(\"The Overall Daily Click-Through Rate is %s\" % CTR_daily)"
   ]
  },
  {
   "cell_type": "markdown",
   "metadata": {},
   "source": [
    "#### Plot: Overall Daily CTR across Days"
   ]
  },
  {
   "cell_type": "code",
   "execution_count": 119,
   "metadata": {},
   "outputs": [
    {
     "data": {
      "image/png": "[encoded data removed]",
      "text/plain": [
       "<Figure size 720x360 with 1 Axes>"
      ]
     },
     "metadata": {},
     "output_type": "display_data"
    }
   ],
   "source": [
    "y=[\"01-03-2016\",\"02-03-2016\",\"03-03-2016\",\"04-03-2016\",\"05-03-2016\",\"06-03-2016\",\"07-03-2016\",\"08-03-2016\"]\n",
    "width = 0.55\n",
    "fig, ax = plt.subplots(figsize=(10, 5))\n",
    "rects = ax.bar(y,CTR_arr,width )\n",
    "ax.set_ylabel('Click Through Rate ')\n",
    "ax.set_title('CTR across the Days')\n",
    "ax.set_xlabel('Days')\n",
    "\n",
    "def autolabel(rects):\n",
    "    \"\"\"Attach a text label above each bar in *rects*, displaying its height.\"\"\"\n",
    "    for rect in rects:\n",
    "        height = rect.get_height()\n",
    "        ax.annotate('{}'.format(height),\n",
    "                    xy=(rect.get_x() + rect.get_width() / 2, height),\n",
    "                    xytext=(0, 3),  # 3 points vertical offset\n",
    "                    textcoords=\"offset points\",\n",
    "                    ha='center', va='bottom')\n",
    "\n",
    "\n",
    "autolabel(rects);"
   ]
  },
  {
   "cell_type": "markdown",
   "metadata": {},
   "source": [
    "#### CTR per Group per Day"
   ]
  },
  {
   "cell_type": "code",
   "execution_count": 120,
   "metadata": {},
   "outputs": [
    {
     "name": "stdout",
     "output_type": "stream",
     "text": [
      "Day1: A = 22.453, B = 12.034\n",
      "Day2: A = 21.765, B = 12.735\n",
      "Day3: A = 21.416, B = 13.285\n",
      "Day4: A = 21.014, B = 16.98\n",
      "Day5: A = 20.483, B = 17.618\n",
      "Day6: A = 22.325, B = 16.605\n",
      "Day7: A = 20.852, B = 17.411\n",
      "Day8: A = 20.858, B = 16.048\n"
     ]
    }
   ],
   "source": [
    "CTR_01_A = (len(data[((data.action == 'searchResultPage') | (data.action == 'visitPage')) & (data.day == 1) & (data.group == 'a')].groupby('session_id').mean().dropna(subset=['result_position'])))/(len(data[(data.action == 'searchResultPage') & (data.day == 1) & (data.group == 'a')]))\n",
    "CTR_01_B = (len(data[((data.action == 'searchResultPage') | (data.action == 'visitPage')) & (data.day == 1) & (data.group == 'b')].groupby('session_id').mean().dropna(subset=['result_position'])))/(len(data[(data.action == 'searchResultPage') & (data.day == 1) & (data.group == 'b')]))\n",
    "\n",
    "CTR_02_A = (len(data[((data.action == 'searchResultPage') | (data.action == 'visitPage')) & (data.day == 2) & (data.group == 'a')].groupby('session_id').mean().dropna(subset=['result_position'])))/(len(data[(data.action == 'searchResultPage') & (data.day == 2) & (data.group == 'a')]))\n",
    "CTR_02_B = (len(data[((data.action == 'searchResultPage') | (data.action == 'visitPage')) & (data.day == 2) & (data.group == 'b')].groupby('session_id').mean().dropna(subset=['result_position'])))/(len(data[(data.action == 'searchResultPage') & (data.day == 2) & (data.group == 'b')]))\n",
    "\n",
    "CTR_03_A = (len(data[((data.action == 'searchResultPage') | (data.action == 'visitPage')) & (data.day == 3) & (data.group == 'a')].groupby('session_id').mean().dropna(subset=['result_position'])))/(len(data[(data.action == 'searchResultPage') & (data.day == 3) & (data.group == 'a')]))\n",
    "CTR_03_B = (len(data[((data.action == 'searchResultPage') | (data.action == 'visitPage')) & (data.day == 3) & (data.group == 'b')].groupby('session_id').mean().dropna(subset=['result_position'])))/(len(data[(data.action == 'searchResultPage') & (data.day == 3) & (data.group == 'b')]))\n",
    "\n",
    "CTR_04_A = (len(data[((data.action == 'searchResultPage') | (data.action == 'visitPage')) & (data.day == 4) & (data.group == 'a')].groupby('session_id').mean().dropna(subset=['result_position'])))/(len(data[(data.action == 'searchResultPage') & (data.day == 4) & (data.group == 'a')]))\n",
    "CTR_04_B = (len(data[((data.action == 'searchResultPage') | (data.action == 'visitPage')) & (data.day == 4) & (data.group == 'b')].groupby('session_id').mean().dropna(subset=['result_position'])))/(len(data[(data.action == 'searchResultPage') & (data.day == 4) & (data.group == 'b')]))\n",
    "\n",
    "CTR_05_A = (len(data[((data.action == 'searchResultPage') | (data.action == 'visitPage')) & (data.day == 5) & (data.group == 'a')].groupby('session_id').mean().dropna(subset=['result_position'])))/(len(data[(data.action == 'searchResultPage') & (data.day == 5) & (data.group == 'a')]))\n",
    "CTR_05_B = (len(data[((data.action == 'searchResultPage') | (data.action == 'visitPage')) & (data.day == 5) & (data.group == 'b')].groupby('session_id').mean().dropna(subset=['result_position'])))/(len(data[(data.action == 'searchResultPage') & (data.day == 5) & (data.group == 'b')]))\n",
    "\n",
    "CTR_06_A = (len(data[((data.action == 'searchResultPage') | (data.action == 'visitPage')) & (data.day == 6) & (data.group == 'a')].groupby('session_id').mean().dropna(subset=['result_position'])))/(len(data[(data.action == 'searchResultPage') & (data.day == 6) & (data.group == 'a')]))\n",
    "CTR_06_B = (len(data[((data.action == 'searchResultPage') | (data.action == 'visitPage')) & (data.day == 6) & (data.group == 'b')].groupby('session_id').mean().dropna(subset=['result_position'])))/(len(data[(data.action == 'searchResultPage') & (data.day == 6) & (data.group == 'b')]))\n",
    "\n",
    "CTR_07_A = (len(data[((data.action == 'searchResultPage') | (data.action == 'visitPage')) & (data.day == 7) & (data.group == 'a')].groupby('session_id').mean().dropna(subset=['result_position'])))/(len(data[(data.action == 'searchResultPage') & (data.day == 7) & (data.group == 'a')]))\n",
    "CTR_07_B = (len(data[((data.action == 'searchResultPage') | (data.action == 'visitPage')) & (data.day == 7) & (data.group == 'b')].groupby('session_id').mean().dropna(subset=['result_position'])))/(len(data[(data.action == 'searchResultPage') & (data.day == 7) & (data.group == 'b')]))\n",
    "\n",
    "CTR_08_A = (len(data[((data.action == 'searchResultPage') | (data.action == 'visitPage')) & (data.day == 8) & (data.group == 'a')].groupby('session_id').mean().dropna(subset=['result_position'])))/(len(data[(data.action == 'searchResultPage') & (data.day == 8) & (data.group == 'a')]))\n",
    "CTR_08_B = (len(data[((data.action == 'searchResultPage') | (data.action == 'visitPage')) & (data.day == 8) & (data.group == 'b')].groupby('session_id').mean().dropna(subset=['result_position'])))/(len(data[(data.action == 'searchResultPage') & (data.day == 8) & (data.group == 'b')]))\n",
    "\n",
    "print(\"Day1: A = %s, B = %s\" % (round(CTR_01_A*100,3),round(CTR_01_B*100,3)))\n",
    "print(\"Day2: A = %s, B = %s\" % (round(CTR_02_A*100,3),round(CTR_02_B*100,3)))\n",
    "print(\"Day3: A = %s, B = %s\" % (round(CTR_03_A*100,3),round(CTR_03_B*100,3)))\n",
    "print(\"Day4: A = %s, B = %s\" % (round(CTR_04_A*100,3),round(CTR_04_B*100,3)))\n",
    "print(\"Day5: A = %s, B = %s\" % (round(CTR_05_A*100,3),round(CTR_05_B*100,3)))\n",
    "print(\"Day6: A = %s, B = %s\" % (round(CTR_06_A*100,3),round(CTR_06_B*100,3)))\n",
    "print(\"Day7: A = %s, B = %s\" % (round(CTR_07_A*100,3),round(CTR_07_B*100,3)))\n",
    "print(\"Day8: A = %s, B = %s\" % (round(CTR_08_A*100,3),round(CTR_08_B*100,3)))"
   ]
  },
  {
   "cell_type": "markdown",
   "metadata": {},
   "source": [
    "#### Plot: CTR per Group per Day"
   ]
  },
  {
   "cell_type": "code",
   "execution_count": 121,
   "metadata": {},
   "outputs": [
    {
     "data": {
      "image/png": "[encoded data removed]",
      "text/plain": [
       "<Figure size 1080x360 with 1 Axes>"
      ]
     },
     "metadata": {},
     "output_type": "display_data"
    }
   ],
   "source": [
    "Group_CTR_per_day = pd.DataFrame([['01-03-2016', round(CTR_01_A,3), round(CTR_01_B,3)],['02-03-2016', round(CTR_02_A,3), round(CTR_02_B,3)],['03-03-2016', round(CTR_03_A,3), round(CTR_03_B,3)],\n",
    "                                  ['04-03-2016', round(CTR_04_A,3), round(CTR_04_B,3)],['05-03-2016', round(CTR_05_A,3), round(CTR_05_B,3)],['06-03-2016', round(CTR_06_A,3), round(CTR_06_B,3)],\n",
    "                                  ['07-03-2016', round(CTR_07_A,3), round(CTR_07_B,3)],['08-03-2016', round(CTR_08_A,3), round(CTR_08_B,3)]],\n",
    "                                 columns=['Day', 'A', 'B'])\n",
    "fig, ax = plt.subplots(figsize=(15, 5))\n",
    "bar1 = ax.bar(Group_CTR_per_day['Day'],Group_CTR_per_day['A'], width, label='Group A')\n",
    "bar2 = ax.bar(Group_CTR_per_day['Day'],Group_CTR_per_day['B'], width-0.15, label='Group B')\n",
    "\n",
    "ax.set_ylabel('Click Through Rate ')\n",
    "ax.set_title('CTR over the Days across the Groups')\n",
    "\n",
    "ax.set_xlabel('Days')\n",
    "ax.legend()\n",
    "\n",
    "def autolabel(rects):\n",
    "    \"\"\"Attach a text label above each bar in *bar1 and bar2*, displaying its height.\"\"\"\n",
    "    for rect in rects:\n",
    "        height = rect.get_height()\n",
    "        ax.annotate('{}'.format(height),\n",
    "                    xy=(rect.get_x() + rect.get_width() / 2, height),\n",
    "                    xytext=(0, 3),  # 3 points vertical offset\n",
    "                    textcoords=\"offset points\",\n",
    "                    ha='center', va='bottom')\n",
    "\n",
    "\n",
    "autolabel(bar1)\n",
    "autolabel(bar2);"
   ]
  },
  {
   "cell_type": "markdown",
   "metadata": {},
   "source": [
    "# 2. Which results do people tend to try first? How does it change day-to-day?"
   ]
  },
  {
   "cell_type": "markdown",
   "metadata": {},
   "source": [
    "#### Overall Results"
   ]
  },
  {
   "cell_type": "code",
   "execution_count": 122,
   "metadata": {
    "scrolled": true
   },
   "outputs": [
    {
     "data": {
      "text/html": [
       "<div>\n",
       "<style scoped>\n",
       "    .dataframe tbody tr th:only-of-type {\n",
       "        vertical-align: middle;\n",
       "    }\n",
       "\n",
       "    .dataframe tbody tr th {\n",
       "        vertical-align: top;\n",
       "    }\n",
       "\n",
       "    .dataframe thead th {\n",
       "        text-align: right;\n",
       "    }\n",
       "</style>\n",
       "<table border=\"1\" class=\"dataframe\">\n",
       "  <thead>\n",
       "    <tr style=\"text-align: right;\">\n",
       "      <th></th>\n",
       "      <th>Count</th>\n",
       "      <th>Percentage</th>\n",
       "    </tr>\n",
       "    <tr>\n",
       "      <th>result_position</th>\n",
       "      <th></th>\n",
       "      <th></th>\n",
       "    </tr>\n",
       "  </thead>\n",
       "  <tbody>\n",
       "    <tr>\n",
       "      <th>1</th>\n",
       "      <td>17307</td>\n",
       "      <td>65.437840</td>\n",
       "    </tr>\n",
       "    <tr>\n",
       "      <th>2</th>\n",
       "      <td>3798</td>\n",
       "      <td>14.360254</td>\n",
       "    </tr>\n",
       "    <tr>\n",
       "      <th>3</th>\n",
       "      <td>1907</td>\n",
       "      <td>7.210375</td>\n",
       "    </tr>\n",
       "    <tr>\n",
       "      <th>4</th>\n",
       "      <td>980</td>\n",
       "      <td>3.705384</td>\n",
       "    </tr>\n",
       "    <tr>\n",
       "      <th>5</th>\n",
       "      <td>602</td>\n",
       "      <td>2.276165</td>\n",
       "    </tr>\n",
       "    <tr>\n",
       "      <th>6</th>\n",
       "      <td>436</td>\n",
       "      <td>1.648518</td>\n",
       "    </tr>\n",
       "    <tr>\n",
       "      <th>7</th>\n",
       "      <td>307</td>\n",
       "      <td>1.160768</td>\n",
       "    </tr>\n",
       "    <tr>\n",
       "      <th>8</th>\n",
       "      <td>195</td>\n",
       "      <td>0.737296</td>\n",
       "    </tr>\n",
       "    <tr>\n",
       "      <th>9</th>\n",
       "      <td>155</td>\n",
       "      <td>0.586056</td>\n",
       "    </tr>\n",
       "    <tr>\n",
       "      <th>10</th>\n",
       "      <td>146</td>\n",
       "      <td>0.552027</td>\n",
       "    </tr>\n",
       "    <tr>\n",
       "      <th>11</th>\n",
       "      <td>93</td>\n",
       "      <td>0.351633</td>\n",
       "    </tr>\n",
       "    <tr>\n",
       "      <th>12</th>\n",
       "      <td>83</td>\n",
       "      <td>0.313823</td>\n",
       "    </tr>\n",
       "    <tr>\n",
       "      <th>13</th>\n",
       "      <td>65</td>\n",
       "      <td>0.245765</td>\n",
       "    </tr>\n",
       "    <tr>\n",
       "      <th>14</th>\n",
       "      <td>53</td>\n",
       "      <td>0.200393</td>\n",
       "    </tr>\n",
       "    <tr>\n",
       "      <th>19</th>\n",
       "      <td>47</td>\n",
       "      <td>0.177707</td>\n",
       "    </tr>\n",
       "    <tr>\n",
       "      <th>15</th>\n",
       "      <td>45</td>\n",
       "      <td>0.170145</td>\n",
       "    </tr>\n",
       "    <tr>\n",
       "      <th>20</th>\n",
       "      <td>43</td>\n",
       "      <td>0.162583</td>\n",
       "    </tr>\n",
       "    <tr>\n",
       "      <th>17</th>\n",
       "      <td>41</td>\n",
       "      <td>0.155021</td>\n",
       "    </tr>\n",
       "    <tr>\n",
       "      <th>18</th>\n",
       "      <td>39</td>\n",
       "      <td>0.147459</td>\n",
       "    </tr>\n",
       "    <tr>\n",
       "      <th>16</th>\n",
       "      <td>32</td>\n",
       "      <td>0.120992</td>\n",
       "    </tr>\n",
       "  </tbody>\n",
       "</table>\n",
       "</div>"
      ],
      "text/plain": [
       "                 Count  Percentage\n",
       "result_position                   \n",
       "1                17307   65.437840\n",
       "2                 3798   14.360254\n",
       "3                 1907    7.210375\n",
       "4                  980    3.705384\n",
       "5                  602    2.276165\n",
       "6                  436    1.648518\n",
       "7                  307    1.160768\n",
       "8                  195    0.737296\n",
       "9                  155    0.586056\n",
       "10                 146    0.552027\n",
       "11                  93    0.351633\n",
       "12                  83    0.313823\n",
       "13                  65    0.245765\n",
       "14                  53    0.200393\n",
       "19                  47    0.177707\n",
       "15                  45    0.170145\n",
       "20                  43    0.162583\n",
       "17                  41    0.155021\n",
       "18                  39    0.147459\n",
       "16                  32    0.120992"
      ]
     },
     "execution_count": 122,
     "metadata": {},
     "output_type": "execute_result"
    }
   ],
   "source": [
    "Search_page_1st_Click = data[((data.action == 'searchResultPage') | (data.action == 'visitPage'))].groupby('session_id').mean().dropna(subset=['result_position'])\n",
    "Search_page_1st_Click['Count'] = 1\n",
    "Search_page_1st_Click = Search_page_1st_Click[['result_position','Count']]\n",
    "Search_page_1st_Click['result_position'] = Search_page_1st_Click['result_position'].astype(int)\n",
    "result_pos = Search_page_1st_Click.groupby('result_position').count()\n",
    "result_pos = result_pos.sort_values(by=['Count'],ascending=False)\n",
    "result_pos['Percentage'] = result_pos['Count']*100/26448 # len(Search_page_1st_Click) = 26448\n",
    "result_pos.head(20)"
   ]
  },
  {
   "cell_type": "markdown",
   "metadata": {},
   "source": [
    "#### Plot: Frequency of Top10 Result Positions "
   ]
  },
  {
   "cell_type": "code",
   "execution_count": 123,
   "metadata": {
    "scrolled": true
   },
   "outputs": [
    {
     "data": {
      "image/png": "[encoded data removed]",
      "text/plain": [
       "<Figure size 1440x576 with 1 Axes>"
      ]
     },
     "metadata": {},
     "output_type": "display_data"
    }
   ],
   "source": [
    "top_10 = result_pos[:10]\n",
    "\n",
    "fig, ax = plt.subplots(figsize=(20, 8))\n",
    "bar = ax.bar(top_10.index,top_10.Count, width)\n",
    "ax.set_ylabel('Count')\n",
    "ax.set_title('Frequency of Clicks vs Result Position')\n",
    "ax.set_xlabel('Result_Position')\n",
    "\n",
    "def autolabel(rects):\n",
    "    \"\"\"Attach a text label above each bar in *bar*, displaying its height.\"\"\"\n",
    "    for rect in rects:\n",
    "        height = rect.get_height()\n",
    "        ax.annotate('{}'.format(height),\n",
    "                    xy=(rect.get_x() + rect.get_width() / 2, height),\n",
    "                    xytext=(0, 3),  # 3 points vertical offset\n",
    "                    textcoords=\"offset points\",\n",
    "                    ha='center', va='bottom')\n",
    "\n",
    "autolabel(bar);"
   ]
  },
  {
   "cell_type": "markdown",
   "metadata": {},
   "source": [
    "### Trend of the two group of users"
   ]
  },
  {
   "cell_type": "markdown",
   "metadata": {},
   "source": [
    "#### Group A"
   ]
  },
  {
   "cell_type": "code",
   "execution_count": 124,
   "metadata": {},
   "outputs": [
    {
     "data": {
      "text/html": [
       "<div>\n",
       "<style scoped>\n",
       "    .dataframe tbody tr th:only-of-type {\n",
       "        vertical-align: middle;\n",
       "    }\n",
       "\n",
       "    .dataframe tbody tr th {\n",
       "        vertical-align: top;\n",
       "    }\n",
       "\n",
       "    .dataframe thead th {\n",
       "        text-align: right;\n",
       "    }\n",
       "</style>\n",
       "<table border=\"1\" class=\"dataframe\">\n",
       "  <thead>\n",
       "    <tr style=\"text-align: right;\">\n",
       "      <th></th>\n",
       "      <th>Count</th>\n",
       "      <th>Percentage</th>\n",
       "    </tr>\n",
       "    <tr>\n",
       "      <th>result_position</th>\n",
       "      <th></th>\n",
       "      <th></th>\n",
       "    </tr>\n",
       "  </thead>\n",
       "  <tbody>\n",
       "    <tr>\n",
       "      <th>1</th>\n",
       "      <td>12759</td>\n",
       "      <td>64.750063</td>\n",
       "    </tr>\n",
       "    <tr>\n",
       "      <th>2</th>\n",
       "      <td>2847</td>\n",
       "      <td>14.448110</td>\n",
       "    </tr>\n",
       "    <tr>\n",
       "      <th>3</th>\n",
       "      <td>1421</td>\n",
       "      <td>7.211368</td>\n",
       "    </tr>\n",
       "    <tr>\n",
       "      <th>4</th>\n",
       "      <td>746</td>\n",
       "      <td>3.785841</td>\n",
       "    </tr>\n",
       "    <tr>\n",
       "      <th>5</th>\n",
       "      <td>460</td>\n",
       "      <td>2.334433</td>\n",
       "    </tr>\n",
       "    <tr>\n",
       "      <th>6</th>\n",
       "      <td>327</td>\n",
       "      <td>1.659477</td>\n",
       "    </tr>\n",
       "    <tr>\n",
       "      <th>7</th>\n",
       "      <td>250</td>\n",
       "      <td>1.268714</td>\n",
       "    </tr>\n",
       "    <tr>\n",
       "      <th>8</th>\n",
       "      <td>155</td>\n",
       "      <td>0.786602</td>\n",
       "    </tr>\n",
       "    <tr>\n",
       "      <th>9</th>\n",
       "      <td>126</td>\n",
       "      <td>0.639432</td>\n",
       "    </tr>\n",
       "    <tr>\n",
       "      <th>10</th>\n",
       "      <td>119</td>\n",
       "      <td>0.603908</td>\n",
       "    </tr>\n",
       "  </tbody>\n",
       "</table>\n",
       "</div>"
      ],
      "text/plain": [
       "                 Count  Percentage\n",
       "result_position                   \n",
       "1                12759   64.750063\n",
       "2                 2847   14.448110\n",
       "3                 1421    7.211368\n",
       "4                  746    3.785841\n",
       "5                  460    2.334433\n",
       "6                  327    1.659477\n",
       "7                  250    1.268714\n",
       "8                  155    0.786602\n",
       "9                  126    0.639432\n",
       "10                 119    0.603908"
      ]
     },
     "execution_count": 124,
     "metadata": {},
     "output_type": "execute_result"
    }
   ],
   "source": [
    "Search_page_1st_Click_A = data[((data.action == 'searchResultPage') | (data.action == 'visitPage')) & (data.group == 'a')].groupby('session_id').mean().dropna(subset=['result_position'])\n",
    "Search_page_1st_Click_A['Count'] = 1\n",
    "Search_page_1st_Click_A = Search_page_1st_Click_A[['result_position','Count']]\n",
    "Search_page_1st_Click_A['result_position'] = Search_page_1st_Click_A['result_position'].astype(int)\n",
    "result_pos_A = Search_page_1st_Click_A.groupby('result_position').count()\n",
    "result_pos_A = result_pos_A.sort_values(by=['Count'],ascending=False)\n",
    "result_pos_A['Percentage'] = result_pos_A['Count']*100/19705 # len(Search_page_1st_Click_A) = 19705\n",
    "result_pos_A.head(10)"
   ]
  },
  {
   "cell_type": "markdown",
   "metadata": {},
   "source": [
    "#### Plot: Frequency of Top10 Result Positions for Group A"
   ]
  },
  {
   "cell_type": "code",
   "execution_count": 125,
   "metadata": {},
   "outputs": [
    {
     "data": {
      "image/png": "[encoded data removed]",
      "text/plain": [
       "<Figure size 1440x576 with 1 Axes>"
      ]
     },
     "metadata": {},
     "output_type": "display_data"
    }
   ],
   "source": [
    "top_10_A = result_pos_A[:10]\n",
    "\n",
    "fig, ax = plt.subplots(figsize=(20, 8))\n",
    "bar = ax.bar(top_10_A.index,top_10_A.Count, width)\n",
    "ax.set_ylabel('Count')\n",
    "ax.set_title('Frequency of Clicks vs Result Position for Group A')\n",
    "ax.set_xlabel('Result_Position')\n",
    "\n",
    "def autolabel(rects):\n",
    "    \"\"\"Attach a text label above each bar in *bar*, displaying its height.\"\"\"\n",
    "    for rect in rects:\n",
    "        height = rect.get_height()\n",
    "        ax.annotate('{}'.format(height),\n",
    "                    xy=(rect.get_x() + rect.get_width() / 2, height),\n",
    "                    xytext=(0, 3),  # 3 points vertical offset\n",
    "                    textcoords=\"offset points\",\n",
    "                    ha='center', va='bottom')\n",
    "\n",
    "autolabel(bar);"
   ]
  },
  {
   "cell_type": "markdown",
   "metadata": {},
   "source": [
    "#### Group B"
   ]
  },
  {
   "cell_type": "code",
   "execution_count": 126,
   "metadata": {},
   "outputs": [
    {
     "data": {
      "text/html": [
       "<div>\n",
       "<style scoped>\n",
       "    .dataframe tbody tr th:only-of-type {\n",
       "        vertical-align: middle;\n",
       "    }\n",
       "\n",
       "    .dataframe tbody tr th {\n",
       "        vertical-align: top;\n",
       "    }\n",
       "\n",
       "    .dataframe thead th {\n",
       "        text-align: right;\n",
       "    }\n",
       "</style>\n",
       "<table border=\"1\" class=\"dataframe\">\n",
       "  <thead>\n",
       "    <tr style=\"text-align: right;\">\n",
       "      <th></th>\n",
       "      <th>Count</th>\n",
       "      <th>Percentage</th>\n",
       "    </tr>\n",
       "    <tr>\n",
       "      <th>result_position</th>\n",
       "      <th></th>\n",
       "      <th></th>\n",
       "    </tr>\n",
       "  </thead>\n",
       "  <tbody>\n",
       "    <tr>\n",
       "      <th>1</th>\n",
       "      <td>4548</td>\n",
       "      <td>67.447724</td>\n",
       "    </tr>\n",
       "    <tr>\n",
       "      <th>2</th>\n",
       "      <td>951</td>\n",
       "      <td>14.103515</td>\n",
       "    </tr>\n",
       "    <tr>\n",
       "      <th>3</th>\n",
       "      <td>486</td>\n",
       "      <td>7.207474</td>\n",
       "    </tr>\n",
       "    <tr>\n",
       "      <th>4</th>\n",
       "      <td>234</td>\n",
       "      <td>3.470265</td>\n",
       "    </tr>\n",
       "    <tr>\n",
       "      <th>5</th>\n",
       "      <td>142</td>\n",
       "      <td>2.105888</td>\n",
       "    </tr>\n",
       "    <tr>\n",
       "      <th>6</th>\n",
       "      <td>109</td>\n",
       "      <td>1.616491</td>\n",
       "    </tr>\n",
       "    <tr>\n",
       "      <th>7</th>\n",
       "      <td>57</td>\n",
       "      <td>0.845321</td>\n",
       "    </tr>\n",
       "    <tr>\n",
       "      <th>8</th>\n",
       "      <td>40</td>\n",
       "      <td>0.593208</td>\n",
       "    </tr>\n",
       "    <tr>\n",
       "      <th>9</th>\n",
       "      <td>29</td>\n",
       "      <td>0.430076</td>\n",
       "    </tr>\n",
       "    <tr>\n",
       "      <th>10</th>\n",
       "      <td>27</td>\n",
       "      <td>0.400415</td>\n",
       "    </tr>\n",
       "  </tbody>\n",
       "</table>\n",
       "</div>"
      ],
      "text/plain": [
       "                 Count  Percentage\n",
       "result_position                   \n",
       "1                 4548   67.447724\n",
       "2                  951   14.103515\n",
       "3                  486    7.207474\n",
       "4                  234    3.470265\n",
       "5                  142    2.105888\n",
       "6                  109    1.616491\n",
       "7                   57    0.845321\n",
       "8                   40    0.593208\n",
       "9                   29    0.430076\n",
       "10                  27    0.400415"
      ]
     },
     "execution_count": 126,
     "metadata": {},
     "output_type": "execute_result"
    }
   ],
   "source": [
    "Search_page_1st_Click_B = data[((data.action == 'searchResultPage') | (data.action == 'visitPage')) & (data.group == 'b')].groupby('session_id').mean().dropna(subset=['result_position'])\n",
    "Search_page_1st_Click_B['Count'] = 1\n",
    "Search_page_1st_Click_B = Search_page_1st_Click_B[['result_position','Count']]\n",
    "Search_page_1st_Click_B['result_position'] = Search_page_1st_Click_B['result_position'].astype(int)\n",
    "result_pos_B = Search_page_1st_Click_B.groupby('result_position').count()\n",
    "result_pos_B = result_pos_B.sort_values(by=['Count'],ascending=False)\n",
    "result_pos_B['Percentage'] = result_pos_B['Count']*100/6743 # len(Search_page_1st_Click_B) = 6743\n",
    "result_pos_B.head(10)"
   ]
  },
  {
   "cell_type": "markdown",
   "metadata": {},
   "source": [
    "#### Plot: Frequency of Top10 Result Positions for Group B"
   ]
  },
  {
   "cell_type": "code",
   "execution_count": 127,
   "metadata": {},
   "outputs": [
    {
     "data": {
      "image/png": "[encoded data removed]",
      "text/plain": [
       "<Figure size 1440x576 with 1 Axes>"
      ]
     },
     "metadata": {},
     "output_type": "display_data"
    }
   ],
   "source": [
    "top_10_B = result_pos_B[:10]\n",
    "\n",
    "fig, ax = plt.subplots(figsize=(20, 8))\n",
    "bar = ax.bar(top_10_B.index,top_10_B.Count, width)\n",
    "ax.set_ylabel('Count')\n",
    "ax.set_title('Frequency of Clicks vs Result Position for Group B')\n",
    "ax.set_xlabel('Result_Position')\n",
    "\n",
    "def autolabel(rects):\n",
    "    \"\"\"Attach a text label above each bar in *bar*, displaying its height.\"\"\"\n",
    "    for rect in rects:\n",
    "        height = rect.get_height()\n",
    "        ax.annotate('{}'.format(height),\n",
    "                    xy=(rect.get_x() + rect.get_width() / 2, height),\n",
    "                    xytext=(0, 3),  # 3 points vertical offset\n",
    "                    textcoords=\"offset points\",\n",
    "                    ha='center', va='bottom')\n",
    "\n",
    "autolabel(bar);"
   ]
  },
  {
   "cell_type": "markdown",
   "metadata": {},
   "source": [
    "### Trend Observed on Each Day"
   ]
  },
  {
   "cell_type": "markdown",
   "metadata": {},
   "source": [
    "#### Day1"
   ]
  },
  {
   "cell_type": "code",
   "execution_count": 128,
   "metadata": {},
   "outputs": [
    {
     "data": {
      "text/html": [
       "<div>\n",
       "<style scoped>\n",
       "    .dataframe tbody tr th:only-of-type {\n",
       "        vertical-align: middle;\n",
       "    }\n",
       "\n",
       "    .dataframe tbody tr th {\n",
       "        vertical-align: top;\n",
       "    }\n",
       "\n",
       "    .dataframe thead th {\n",
       "        text-align: right;\n",
       "    }\n",
       "</style>\n",
       "<table border=\"1\" class=\"dataframe\">\n",
       "  <thead>\n",
       "    <tr style=\"text-align: right;\">\n",
       "      <th></th>\n",
       "      <th>Count</th>\n",
       "      <th>Percentage</th>\n",
       "    </tr>\n",
       "    <tr>\n",
       "      <th>result_position</th>\n",
       "      <th></th>\n",
       "      <th></th>\n",
       "    </tr>\n",
       "  </thead>\n",
       "  <tbody>\n",
       "    <tr>\n",
       "      <th>1</th>\n",
       "      <td>2316</td>\n",
       "      <td>65.758092</td>\n",
       "    </tr>\n",
       "    <tr>\n",
       "      <th>2</th>\n",
       "      <td>542</td>\n",
       "      <td>15.388984</td>\n",
       "    </tr>\n",
       "    <tr>\n",
       "      <th>3</th>\n",
       "      <td>238</td>\n",
       "      <td>6.757524</td>\n",
       "    </tr>\n",
       "    <tr>\n",
       "      <th>4</th>\n",
       "      <td>122</td>\n",
       "      <td>3.463941</td>\n",
       "    </tr>\n",
       "    <tr>\n",
       "      <th>5</th>\n",
       "      <td>84</td>\n",
       "      <td>2.385009</td>\n",
       "    </tr>\n",
       "    <tr>\n",
       "      <th>6</th>\n",
       "      <td>44</td>\n",
       "      <td>1.249290</td>\n",
       "    </tr>\n",
       "    <tr>\n",
       "      <th>7</th>\n",
       "      <td>35</td>\n",
       "      <td>0.993754</td>\n",
       "    </tr>\n",
       "    <tr>\n",
       "      <th>9</th>\n",
       "      <td>22</td>\n",
       "      <td>0.624645</td>\n",
       "    </tr>\n",
       "    <tr>\n",
       "      <th>10</th>\n",
       "      <td>22</td>\n",
       "      <td>0.624645</td>\n",
       "    </tr>\n",
       "    <tr>\n",
       "      <th>8</th>\n",
       "      <td>19</td>\n",
       "      <td>0.539466</td>\n",
       "    </tr>\n",
       "  </tbody>\n",
       "</table>\n",
       "</div>"
      ],
      "text/plain": [
       "                 Count  Percentage\n",
       "result_position                   \n",
       "1                 2316   65.758092\n",
       "2                  542   15.388984\n",
       "3                  238    6.757524\n",
       "4                  122    3.463941\n",
       "5                   84    2.385009\n",
       "6                   44    1.249290\n",
       "7                   35    0.993754\n",
       "9                   22    0.624645\n",
       "10                  22    0.624645\n",
       "8                   19    0.539466"
      ]
     },
     "execution_count": 128,
     "metadata": {},
     "output_type": "execute_result"
    }
   ],
   "source": [
    "Search_Day1 = data[((data.action == 'searchResultPage') | (data.action == 'visitPage'))& (data.day == 1)].groupby('session_id').mean().dropna(subset=['result_position'])\n",
    "Search_Day1['Count'] = 1\n",
    "Search_Day1 = Search_Day1[['result_position','Count']]\n",
    "Search_Day1['result_position'] = Search_Day1['result_position'].astype(int)\n",
    "result_pos_Day1 = Search_Day1.groupby('result_position').count()\n",
    "result_pos_Day1 = result_pos_Day1.sort_values(by=['Count'],ascending=False)\n",
    "result_pos_Day1['Percentage'] = result_pos_Day1['Count']*100/3522 # len(Search_Day1) = 3522 \n",
    "result_pos_Day1.head(10)"
   ]
  },
  {
   "cell_type": "markdown",
   "metadata": {},
   "source": [
    "#### Day2"
   ]
  },
  {
   "cell_type": "code",
   "execution_count": 129,
   "metadata": {},
   "outputs": [
    {
     "data": {
      "text/html": [
       "<div>\n",
       "<style scoped>\n",
       "    .dataframe tbody tr th:only-of-type {\n",
       "        vertical-align: middle;\n",
       "    }\n",
       "\n",
       "    .dataframe tbody tr th {\n",
       "        vertical-align: top;\n",
       "    }\n",
       "\n",
       "    .dataframe thead th {\n",
       "        text-align: right;\n",
       "    }\n",
       "</style>\n",
       "<table border=\"1\" class=\"dataframe\">\n",
       "  <thead>\n",
       "    <tr style=\"text-align: right;\">\n",
       "      <th></th>\n",
       "      <th>Count</th>\n",
       "      <th>Percentage</th>\n",
       "    </tr>\n",
       "    <tr>\n",
       "      <th>result_position</th>\n",
       "      <th></th>\n",
       "      <th></th>\n",
       "    </tr>\n",
       "  </thead>\n",
       "  <tbody>\n",
       "    <tr>\n",
       "      <th>1</th>\n",
       "      <td>2357</td>\n",
       "      <td>65.472222</td>\n",
       "    </tr>\n",
       "    <tr>\n",
       "      <th>2</th>\n",
       "      <td>497</td>\n",
       "      <td>13.805556</td>\n",
       "    </tr>\n",
       "    <tr>\n",
       "      <th>3</th>\n",
       "      <td>277</td>\n",
       "      <td>7.694444</td>\n",
       "    </tr>\n",
       "    <tr>\n",
       "      <th>4</th>\n",
       "      <td>147</td>\n",
       "      <td>4.083333</td>\n",
       "    </tr>\n",
       "    <tr>\n",
       "      <th>5</th>\n",
       "      <td>73</td>\n",
       "      <td>2.027778</td>\n",
       "    </tr>\n",
       "    <tr>\n",
       "      <th>6</th>\n",
       "      <td>65</td>\n",
       "      <td>1.805556</td>\n",
       "    </tr>\n",
       "    <tr>\n",
       "      <th>7</th>\n",
       "      <td>43</td>\n",
       "      <td>1.194444</td>\n",
       "    </tr>\n",
       "    <tr>\n",
       "      <th>8</th>\n",
       "      <td>31</td>\n",
       "      <td>0.861111</td>\n",
       "    </tr>\n",
       "    <tr>\n",
       "      <th>9</th>\n",
       "      <td>26</td>\n",
       "      <td>0.722222</td>\n",
       "    </tr>\n",
       "    <tr>\n",
       "      <th>10</th>\n",
       "      <td>15</td>\n",
       "      <td>0.416667</td>\n",
       "    </tr>\n",
       "  </tbody>\n",
       "</table>\n",
       "</div>"
      ],
      "text/plain": [
       "                 Count  Percentage\n",
       "result_position                   \n",
       "1                 2357   65.472222\n",
       "2                  497   13.805556\n",
       "3                  277    7.694444\n",
       "4                  147    4.083333\n",
       "5                   73    2.027778\n",
       "6                   65    1.805556\n",
       "7                   43    1.194444\n",
       "8                   31    0.861111\n",
       "9                   26    0.722222\n",
       "10                  15    0.416667"
      ]
     },
     "execution_count": 129,
     "metadata": {},
     "output_type": "execute_result"
    }
   ],
   "source": [
    "Search_Day2 = data[((data.action == 'searchResultPage') | (data.action == 'visitPage'))& (data.day == 2)].groupby('session_id').mean().dropna(subset=['result_position'])\n",
    "Search_Day2['Count'] = 1\n",
    "Search_Day2 = Search_Day2[['result_position','Count']]\n",
    "Search_Day2['result_position'] = Search_Day2['result_position'].astype(int)\n",
    "result_pos_Day2 = Search_Day2.groupby('result_position').count()\n",
    "result_pos_Day2 = result_pos_Day2.sort_values(by=['Count'],ascending=False)\n",
    "result_pos_Day2['Percentage'] = result_pos_Day2['Count']*100/3600 # len(Search_Day2) = 3600 \n",
    "result_pos_Day2.head(10)"
   ]
  },
  {
   "cell_type": "markdown",
   "metadata": {},
   "source": [
    "#### Day3"
   ]
  },
  {
   "cell_type": "code",
   "execution_count": 130,
   "metadata": {},
   "outputs": [
    {
     "data": {
      "text/html": [
       "<div>\n",
       "<style scoped>\n",
       "    .dataframe tbody tr th:only-of-type {\n",
       "        vertical-align: middle;\n",
       "    }\n",
       "\n",
       "    .dataframe tbody tr th {\n",
       "        vertical-align: top;\n",
       "    }\n",
       "\n",
       "    .dataframe thead th {\n",
       "        text-align: right;\n",
       "    }\n",
       "</style>\n",
       "<table border=\"1\" class=\"dataframe\">\n",
       "  <thead>\n",
       "    <tr style=\"text-align: right;\">\n",
       "      <th></th>\n",
       "      <th>Count</th>\n",
       "      <th>Percentage</th>\n",
       "    </tr>\n",
       "    <tr>\n",
       "      <th>result_position</th>\n",
       "      <th></th>\n",
       "      <th></th>\n",
       "    </tr>\n",
       "  </thead>\n",
       "  <tbody>\n",
       "    <tr>\n",
       "      <th>1</th>\n",
       "      <td>2392</td>\n",
       "      <td>65.986207</td>\n",
       "    </tr>\n",
       "    <tr>\n",
       "      <th>2</th>\n",
       "      <td>493</td>\n",
       "      <td>13.600000</td>\n",
       "    </tr>\n",
       "    <tr>\n",
       "      <th>3</th>\n",
       "      <td>257</td>\n",
       "      <td>7.089655</td>\n",
       "    </tr>\n",
       "    <tr>\n",
       "      <th>4</th>\n",
       "      <td>126</td>\n",
       "      <td>3.475862</td>\n",
       "    </tr>\n",
       "    <tr>\n",
       "      <th>5</th>\n",
       "      <td>87</td>\n",
       "      <td>2.400000</td>\n",
       "    </tr>\n",
       "    <tr>\n",
       "      <th>6</th>\n",
       "      <td>62</td>\n",
       "      <td>1.710345</td>\n",
       "    </tr>\n",
       "    <tr>\n",
       "      <th>7</th>\n",
       "      <td>47</td>\n",
       "      <td>1.296552</td>\n",
       "    </tr>\n",
       "    <tr>\n",
       "      <th>10</th>\n",
       "      <td>26</td>\n",
       "      <td>0.717241</td>\n",
       "    </tr>\n",
       "    <tr>\n",
       "      <th>8</th>\n",
       "      <td>26</td>\n",
       "      <td>0.717241</td>\n",
       "    </tr>\n",
       "    <tr>\n",
       "      <th>9</th>\n",
       "      <td>22</td>\n",
       "      <td>0.606897</td>\n",
       "    </tr>\n",
       "  </tbody>\n",
       "</table>\n",
       "</div>"
      ],
      "text/plain": [
       "                 Count  Percentage\n",
       "result_position                   \n",
       "1                 2392   65.986207\n",
       "2                  493   13.600000\n",
       "3                  257    7.089655\n",
       "4                  126    3.475862\n",
       "5                   87    2.400000\n",
       "6                   62    1.710345\n",
       "7                   47    1.296552\n",
       "10                  26    0.717241\n",
       "8                   26    0.717241\n",
       "9                   22    0.606897"
      ]
     },
     "execution_count": 130,
     "metadata": {},
     "output_type": "execute_result"
    }
   ],
   "source": [
    "Search_Day3 = data[((data.action == 'searchResultPage') | (data.action == 'visitPage'))& (data.day == 3)].groupby('session_id').mean().dropna(subset=['result_position'])\n",
    "Search_Day3['Count'] = 1\n",
    "Search_Day3 = Search_Day3[['result_position','Count']]\n",
    "Search_Day3['result_position'] = Search_Day3['result_position'].astype(int)\n",
    "result_pos_Day3 = Search_Day3.groupby('result_position').count()\n",
    "result_pos_Day3 = result_pos_Day3.sort_values(by=['Count'],ascending=False)\n",
    "result_pos_Day3['Percentage'] = result_pos_Day3['Count']*100/3625 # len(Search_Day3) = 3625 \n",
    "result_pos_Day3.head(10)"
   ]
  },
  {
   "cell_type": "markdown",
   "metadata": {},
   "source": [
    "#### Day4"
   ]
  },
  {
   "cell_type": "code",
   "execution_count": 131,
   "metadata": {},
   "outputs": [
    {
     "data": {
      "text/html": [
       "<div>\n",
       "<style scoped>\n",
       "    .dataframe tbody tr th:only-of-type {\n",
       "        vertical-align: middle;\n",
       "    }\n",
       "\n",
       "    .dataframe tbody tr th {\n",
       "        vertical-align: top;\n",
       "    }\n",
       "\n",
       "    .dataframe thead th {\n",
       "        text-align: right;\n",
       "    }\n",
       "</style>\n",
       "<table border=\"1\" class=\"dataframe\">\n",
       "  <thead>\n",
       "    <tr style=\"text-align: right;\">\n",
       "      <th></th>\n",
       "      <th>Count</th>\n",
       "      <th>Percentage</th>\n",
       "    </tr>\n",
       "    <tr>\n",
       "      <th>result_position</th>\n",
       "      <th></th>\n",
       "      <th></th>\n",
       "    </tr>\n",
       "  </thead>\n",
       "  <tbody>\n",
       "    <tr>\n",
       "      <th>1</th>\n",
       "      <td>2190</td>\n",
       "      <td>66.626103</td>\n",
       "    </tr>\n",
       "    <tr>\n",
       "      <th>2</th>\n",
       "      <td>477</td>\n",
       "      <td>14.511713</td>\n",
       "    </tr>\n",
       "    <tr>\n",
       "      <th>3</th>\n",
       "      <td>216</td>\n",
       "      <td>6.571342</td>\n",
       "    </tr>\n",
       "    <tr>\n",
       "      <th>4</th>\n",
       "      <td>120</td>\n",
       "      <td>3.650745</td>\n",
       "    </tr>\n",
       "    <tr>\n",
       "      <th>5</th>\n",
       "      <td>67</td>\n",
       "      <td>2.038333</td>\n",
       "    </tr>\n",
       "    <tr>\n",
       "      <th>6</th>\n",
       "      <td>60</td>\n",
       "      <td>1.825373</td>\n",
       "    </tr>\n",
       "    <tr>\n",
       "      <th>7</th>\n",
       "      <td>32</td>\n",
       "      <td>0.973532</td>\n",
       "    </tr>\n",
       "    <tr>\n",
       "      <th>8</th>\n",
       "      <td>25</td>\n",
       "      <td>0.760572</td>\n",
       "    </tr>\n",
       "    <tr>\n",
       "      <th>9</th>\n",
       "      <td>15</td>\n",
       "      <td>0.456343</td>\n",
       "    </tr>\n",
       "    <tr>\n",
       "      <th>11</th>\n",
       "      <td>12</td>\n",
       "      <td>0.365075</td>\n",
       "    </tr>\n",
       "  </tbody>\n",
       "</table>\n",
       "</div>"
      ],
      "text/plain": [
       "                 Count  Percentage\n",
       "result_position                   \n",
       "1                 2190   66.626103\n",
       "2                  477   14.511713\n",
       "3                  216    6.571342\n",
       "4                  120    3.650745\n",
       "5                   67    2.038333\n",
       "6                   60    1.825373\n",
       "7                   32    0.973532\n",
       "8                   25    0.760572\n",
       "9                   15    0.456343\n",
       "11                  12    0.365075"
      ]
     },
     "execution_count": 131,
     "metadata": {},
     "output_type": "execute_result"
    }
   ],
   "source": [
    "Search_Day4 = data[((data.action == 'searchResultPage') | (data.action == 'visitPage'))& (data.day == 4)].groupby('session_id').mean().dropna(subset=['result_position'])\n",
    "Search_Day4['Count'] = 1\n",
    "Search_Day4 = Search_Day4[['result_position','Count']]\n",
    "Search_Day4['result_position'] = Search_Day4['result_position'].astype(int)\n",
    "result_pos_Day4 = Search_Day4.groupby('result_position').count()\n",
    "result_pos_Day4 = result_pos_Day4.sort_values(by=['Count'],ascending=False)\n",
    "result_pos_Day4['Percentage'] = result_pos_Day4['Count']*100/3287 # len(Search_Day4) = 3287 \n",
    "result_pos_Day4.head(10)"
   ]
  },
  {
   "cell_type": "markdown",
   "metadata": {},
   "source": [
    "#### Day5"
   ]
  },
  {
   "cell_type": "code",
   "execution_count": 132,
   "metadata": {},
   "outputs": [
    {
     "data": {
      "text/html": [
       "<div>\n",
       "<style scoped>\n",
       "    .dataframe tbody tr th:only-of-type {\n",
       "        vertical-align: middle;\n",
       "    }\n",
       "\n",
       "    .dataframe tbody tr th {\n",
       "        vertical-align: top;\n",
       "    }\n",
       "\n",
       "    .dataframe thead th {\n",
       "        text-align: right;\n",
       "    }\n",
       "</style>\n",
       "<table border=\"1\" class=\"dataframe\">\n",
       "  <thead>\n",
       "    <tr style=\"text-align: right;\">\n",
       "      <th></th>\n",
       "      <th>Count</th>\n",
       "      <th>Percentage</th>\n",
       "    </tr>\n",
       "    <tr>\n",
       "      <th>result_position</th>\n",
       "      <th></th>\n",
       "      <th></th>\n",
       "    </tr>\n",
       "  </thead>\n",
       "  <tbody>\n",
       "    <tr>\n",
       "      <th>1</th>\n",
       "      <td>1662</td>\n",
       "      <td>64.593859</td>\n",
       "    </tr>\n",
       "    <tr>\n",
       "      <th>2</th>\n",
       "      <td>402</td>\n",
       "      <td>15.623785</td>\n",
       "    </tr>\n",
       "    <tr>\n",
       "      <th>3</th>\n",
       "      <td>185</td>\n",
       "      <td>7.190051</td>\n",
       "    </tr>\n",
       "    <tr>\n",
       "      <th>4</th>\n",
       "      <td>93</td>\n",
       "      <td>3.614458</td>\n",
       "    </tr>\n",
       "    <tr>\n",
       "      <th>5</th>\n",
       "      <td>65</td>\n",
       "      <td>2.526234</td>\n",
       "    </tr>\n",
       "    <tr>\n",
       "      <th>7</th>\n",
       "      <td>30</td>\n",
       "      <td>1.165954</td>\n",
       "    </tr>\n",
       "    <tr>\n",
       "      <th>6</th>\n",
       "      <td>26</td>\n",
       "      <td>1.010494</td>\n",
       "    </tr>\n",
       "    <tr>\n",
       "      <th>8</th>\n",
       "      <td>20</td>\n",
       "      <td>0.777303</td>\n",
       "    </tr>\n",
       "    <tr>\n",
       "      <th>10</th>\n",
       "      <td>19</td>\n",
       "      <td>0.738438</td>\n",
       "    </tr>\n",
       "    <tr>\n",
       "      <th>9</th>\n",
       "      <td>15</td>\n",
       "      <td>0.582977</td>\n",
       "    </tr>\n",
       "  </tbody>\n",
       "</table>\n",
       "</div>"
      ],
      "text/plain": [
       "                 Count  Percentage\n",
       "result_position                   \n",
       "1                 1662   64.593859\n",
       "2                  402   15.623785\n",
       "3                  185    7.190051\n",
       "4                   93    3.614458\n",
       "5                   65    2.526234\n",
       "7                   30    1.165954\n",
       "6                   26    1.010494\n",
       "8                   20    0.777303\n",
       "10                  19    0.738438\n",
       "9                   15    0.582977"
      ]
     },
     "execution_count": 132,
     "metadata": {},
     "output_type": "execute_result"
    }
   ],
   "source": [
    "Search_Day5 = data[((data.action == 'searchResultPage') | (data.action == 'visitPage'))& (data.day == 5)].groupby('session_id').mean().dropna(subset=['result_position'])\n",
    "Search_Day5['Count'] = 1\n",
    "Search_Day5 = Search_Day5[['result_position','Count']]\n",
    "Search_Day5['result_position'] = Search_Day5['result_position'].astype(int)\n",
    "result_pos_Day5 = Search_Day5.groupby('result_position').count()\n",
    "result_pos_Day5 = result_pos_Day5.sort_values(by=['Count'],ascending=False)\n",
    "result_pos_Day5['Percentage'] = result_pos_Day5['Count']*100/2573 # len(Search_Day5) = 2573\n",
    "result_pos_Day5.head(10)"
   ]
  },
  {
   "cell_type": "markdown",
   "metadata": {},
   "source": [
    "#### Day6"
   ]
  },
  {
   "cell_type": "code",
   "execution_count": 133,
   "metadata": {},
   "outputs": [
    {
     "data": {
      "text/html": [
       "<div>\n",
       "<style scoped>\n",
       "    .dataframe tbody tr th:only-of-type {\n",
       "        vertical-align: middle;\n",
       "    }\n",
       "\n",
       "    .dataframe tbody tr th {\n",
       "        vertical-align: top;\n",
       "    }\n",
       "\n",
       "    .dataframe thead th {\n",
       "        text-align: right;\n",
       "    }\n",
       "</style>\n",
       "<table border=\"1\" class=\"dataframe\">\n",
       "  <thead>\n",
       "    <tr style=\"text-align: right;\">\n",
       "      <th></th>\n",
       "      <th>Count</th>\n",
       "      <th>Percentage</th>\n",
       "    </tr>\n",
       "    <tr>\n",
       "      <th>result_position</th>\n",
       "      <th></th>\n",
       "      <th></th>\n",
       "    </tr>\n",
       "  </thead>\n",
       "  <tbody>\n",
       "    <tr>\n",
       "      <th>1</th>\n",
       "      <td>1929</td>\n",
       "      <td>64.993261</td>\n",
       "    </tr>\n",
       "    <tr>\n",
       "      <th>2</th>\n",
       "      <td>424</td>\n",
       "      <td>14.285714</td>\n",
       "    </tr>\n",
       "    <tr>\n",
       "      <th>3</th>\n",
       "      <td>224</td>\n",
       "      <td>7.547170</td>\n",
       "    </tr>\n",
       "    <tr>\n",
       "      <th>4</th>\n",
       "      <td>116</td>\n",
       "      <td>3.908356</td>\n",
       "    </tr>\n",
       "    <tr>\n",
       "      <th>5</th>\n",
       "      <td>64</td>\n",
       "      <td>2.156334</td>\n",
       "    </tr>\n",
       "    <tr>\n",
       "      <th>6</th>\n",
       "      <td>54</td>\n",
       "      <td>1.819407</td>\n",
       "    </tr>\n",
       "    <tr>\n",
       "      <th>7</th>\n",
       "      <td>29</td>\n",
       "      <td>0.977089</td>\n",
       "    </tr>\n",
       "    <tr>\n",
       "      <th>8</th>\n",
       "      <td>21</td>\n",
       "      <td>0.707547</td>\n",
       "    </tr>\n",
       "    <tr>\n",
       "      <th>10</th>\n",
       "      <td>20</td>\n",
       "      <td>0.673854</td>\n",
       "    </tr>\n",
       "    <tr>\n",
       "      <th>9</th>\n",
       "      <td>19</td>\n",
       "      <td>0.640162</td>\n",
       "    </tr>\n",
       "  </tbody>\n",
       "</table>\n",
       "</div>"
      ],
      "text/plain": [
       "                 Count  Percentage\n",
       "result_position                   \n",
       "1                 1929   64.993261\n",
       "2                  424   14.285714\n",
       "3                  224    7.547170\n",
       "4                  116    3.908356\n",
       "5                   64    2.156334\n",
       "6                   54    1.819407\n",
       "7                   29    0.977089\n",
       "8                   21    0.707547\n",
       "10                  20    0.673854\n",
       "9                   19    0.640162"
      ]
     },
     "execution_count": 133,
     "metadata": {},
     "output_type": "execute_result"
    }
   ],
   "source": [
    "Search_Day6 = data[((data.action == 'searchResultPage') | (data.action == 'visitPage'))& (data.day == 6)].groupby('session_id').mean().dropna(subset=['result_position'])\n",
    "Search_Day6['Count'] = 1\n",
    "Search_Day6 = Search_Day6[['result_position','Count']]\n",
    "Search_Day6['result_position'] = Search_Day6['result_position'].astype(int)\n",
    "result_pos_Day6 = Search_Day6.groupby('result_position').count()\n",
    "result_pos_Day6 = result_pos_Day6.sort_values(by=['Count'],ascending=False)\n",
    "result_pos_Day6['Percentage'] = result_pos_Day6['Count']*100/2968 # len(Search_Day6) = 2968\n",
    "result_pos_Day6.head(10)"
   ]
  },
  {
   "cell_type": "markdown",
   "metadata": {},
   "source": [
    "#### Day7"
   ]
  },
  {
   "cell_type": "code",
   "execution_count": 134,
   "metadata": {},
   "outputs": [
    {
     "data": {
      "text/html": [
       "<div>\n",
       "<style scoped>\n",
       "    .dataframe tbody tr th:only-of-type {\n",
       "        vertical-align: middle;\n",
       "    }\n",
       "\n",
       "    .dataframe tbody tr th {\n",
       "        vertical-align: top;\n",
       "    }\n",
       "\n",
       "    .dataframe thead th {\n",
       "        text-align: right;\n",
       "    }\n",
       "</style>\n",
       "<table border=\"1\" class=\"dataframe\">\n",
       "  <thead>\n",
       "    <tr style=\"text-align: right;\">\n",
       "      <th></th>\n",
       "      <th>Count</th>\n",
       "      <th>Percentage</th>\n",
       "    </tr>\n",
       "    <tr>\n",
       "      <th>result_position</th>\n",
       "      <th></th>\n",
       "      <th></th>\n",
       "    </tr>\n",
       "  </thead>\n",
       "  <tbody>\n",
       "    <tr>\n",
       "      <th>1</th>\n",
       "      <td>2418</td>\n",
       "      <td>64.531625</td>\n",
       "    </tr>\n",
       "    <tr>\n",
       "      <th>2</th>\n",
       "      <td>530</td>\n",
       "      <td>14.144649</td>\n",
       "    </tr>\n",
       "    <tr>\n",
       "      <th>3</th>\n",
       "      <td>278</td>\n",
       "      <td>7.419269</td>\n",
       "    </tr>\n",
       "    <tr>\n",
       "      <th>4</th>\n",
       "      <td>150</td>\n",
       "      <td>4.003203</td>\n",
       "    </tr>\n",
       "    <tr>\n",
       "      <th>5</th>\n",
       "      <td>89</td>\n",
       "      <td>2.375234</td>\n",
       "    </tr>\n",
       "    <tr>\n",
       "      <th>6</th>\n",
       "      <td>61</td>\n",
       "      <td>1.627969</td>\n",
       "    </tr>\n",
       "    <tr>\n",
       "      <th>7</th>\n",
       "      <td>52</td>\n",
       "      <td>1.387777</td>\n",
       "    </tr>\n",
       "    <tr>\n",
       "      <th>8</th>\n",
       "      <td>28</td>\n",
       "      <td>0.747264</td>\n",
       "    </tr>\n",
       "    <tr>\n",
       "      <th>10</th>\n",
       "      <td>21</td>\n",
       "      <td>0.560448</td>\n",
       "    </tr>\n",
       "    <tr>\n",
       "      <th>9</th>\n",
       "      <td>20</td>\n",
       "      <td>0.533760</td>\n",
       "    </tr>\n",
       "  </tbody>\n",
       "</table>\n",
       "</div>"
      ],
      "text/plain": [
       "                 Count  Percentage\n",
       "result_position                   \n",
       "1                 2418   64.531625\n",
       "2                  530   14.144649\n",
       "3                  278    7.419269\n",
       "4                  150    4.003203\n",
       "5                   89    2.375234\n",
       "6                   61    1.627969\n",
       "7                   52    1.387777\n",
       "8                   28    0.747264\n",
       "10                  21    0.560448\n",
       "9                   20    0.533760"
      ]
     },
     "execution_count": 134,
     "metadata": {},
     "output_type": "execute_result"
    }
   ],
   "source": [
    "Search_Day7 = data[((data.action == 'searchResultPage') | (data.action == 'visitPage'))& (data.day == 7)].groupby('session_id').mean().dropna(subset=['result_position'])\n",
    "Search_Day7['Count'] = 1\n",
    "Search_Day7 = Search_Day7[['result_position','Count']]\n",
    "Search_Day7['result_position'] = Search_Day7['result_position'].astype(int)\n",
    "result_pos_Day7 = Search_Day7.groupby('result_position').count()\n",
    "result_pos_Day7 = result_pos_Day7.sort_values(by=['Count'],ascending=False)\n",
    "result_pos_Day7['Percentage'] = result_pos_Day7['Count']*100/3747 # len(Search_Day7) = 3747\n",
    "result_pos_Day7.head(10)"
   ]
  },
  {
   "cell_type": "markdown",
   "metadata": {},
   "source": [
    "#### Day8"
   ]
  },
  {
   "cell_type": "code",
   "execution_count": 135,
   "metadata": {},
   "outputs": [
    {
     "data": {
      "text/html": [
       "<div>\n",
       "<style scoped>\n",
       "    .dataframe tbody tr th:only-of-type {\n",
       "        vertical-align: middle;\n",
       "    }\n",
       "\n",
       "    .dataframe tbody tr th {\n",
       "        vertical-align: top;\n",
       "    }\n",
       "\n",
       "    .dataframe thead th {\n",
       "        text-align: right;\n",
       "    }\n",
       "</style>\n",
       "<table border=\"1\" class=\"dataframe\">\n",
       "  <thead>\n",
       "    <tr style=\"text-align: right;\">\n",
       "      <th></th>\n",
       "      <th>Count</th>\n",
       "      <th>Percentage</th>\n",
       "    </tr>\n",
       "    <tr>\n",
       "      <th>result_position</th>\n",
       "      <th></th>\n",
       "      <th></th>\n",
       "    </tr>\n",
       "  </thead>\n",
       "  <tbody>\n",
       "    <tr>\n",
       "      <th>1</th>\n",
       "      <td>2052</td>\n",
       "      <td>65.350318</td>\n",
       "    </tr>\n",
       "    <tr>\n",
       "      <th>2</th>\n",
       "      <td>435</td>\n",
       "      <td>13.853503</td>\n",
       "    </tr>\n",
       "    <tr>\n",
       "      <th>3</th>\n",
       "      <td>232</td>\n",
       "      <td>7.388535</td>\n",
       "    </tr>\n",
       "    <tr>\n",
       "      <th>4</th>\n",
       "      <td>107</td>\n",
       "      <td>3.407643</td>\n",
       "    </tr>\n",
       "    <tr>\n",
       "      <th>5</th>\n",
       "      <td>73</td>\n",
       "      <td>2.324841</td>\n",
       "    </tr>\n",
       "    <tr>\n",
       "      <th>6</th>\n",
       "      <td>64</td>\n",
       "      <td>2.038217</td>\n",
       "    </tr>\n",
       "    <tr>\n",
       "      <th>7</th>\n",
       "      <td>40</td>\n",
       "      <td>1.273885</td>\n",
       "    </tr>\n",
       "    <tr>\n",
       "      <th>8</th>\n",
       "      <td>25</td>\n",
       "      <td>0.796178</td>\n",
       "    </tr>\n",
       "    <tr>\n",
       "      <th>11</th>\n",
       "      <td>17</td>\n",
       "      <td>0.541401</td>\n",
       "    </tr>\n",
       "    <tr>\n",
       "      <th>9</th>\n",
       "      <td>16</td>\n",
       "      <td>0.509554</td>\n",
       "    </tr>\n",
       "  </tbody>\n",
       "</table>\n",
       "</div>"
      ],
      "text/plain": [
       "                 Count  Percentage\n",
       "result_position                   \n",
       "1                 2052   65.350318\n",
       "2                  435   13.853503\n",
       "3                  232    7.388535\n",
       "4                  107    3.407643\n",
       "5                   73    2.324841\n",
       "6                   64    2.038217\n",
       "7                   40    1.273885\n",
       "8                   25    0.796178\n",
       "11                  17    0.541401\n",
       "9                   16    0.509554"
      ]
     },
     "execution_count": 135,
     "metadata": {},
     "output_type": "execute_result"
    }
   ],
   "source": [
    "Search_Day8 = data[((data.action == 'searchResultPage') | (data.action == 'visitPage'))& (data.day == 8)].groupby('session_id').mean().dropna(subset=['result_position'])\n",
    "Search_Day8['Count'] = 1\n",
    "Search_Day8 = Search_Day8[['result_position','Count']]\n",
    "Search_Day8['result_position'] = Search_Day8['result_position'].astype(int)\n",
    "result_pos_Day8 = Search_Day8.groupby('result_position').count()\n",
    "result_pos_Day8 = result_pos_Day8.sort_values(by=['Count'],ascending=False)\n",
    "result_pos_Day8['Percentage'] = result_pos_Day8['Count']*100/3140 # len(Search_Day8) = 3140\n",
    "result_pos_Day8.head(10)"
   ]
  },
  {
   "cell_type": "markdown",
   "metadata": {},
   "source": [
    "#### Plot: Frequency of Top10 Result Positions across all Days"
   ]
  },
  {
   "cell_type": "code",
   "execution_count": 136,
   "metadata": {},
   "outputs": [
    {
     "data": {
      "image/png": "[encoded data removed]",
      "text/plain": [
       "<Figure size 1440x1440 with 8 Axes>"
      ]
     },
     "metadata": {},
     "output_type": "display_data"
    }
   ],
   "source": [
    "top_10_D1 = result_pos_Day1[:10]\n",
    "top_10_D2 = result_pos_Day2[:10]\n",
    "top_10_D3 = result_pos_Day3[:10]\n",
    "top_10_D4 = result_pos_Day4[:10]\n",
    "top_10_D5 = result_pos_Day5[:10]\n",
    "top_10_D6 = result_pos_Day6[:10]\n",
    "top_10_D7 = result_pos_Day7[:10]\n",
    "top_10_D8 = result_pos_Day8[:10]\n",
    "\n",
    "fig, ax = plt.subplots(nrows = 4,ncols = 2,figsize=(20, 20))\n",
    "\n",
    "bar1 = ax[0][0].bar(top_10_D1.index,top_10_D1.Count, width)\n",
    "bar2 = ax[0][1].bar(top_10_D2.index,top_10_D2.Count, width)\n",
    "bar3 = ax[1][0].bar(top_10_D3.index,top_10_D3.Count, width)\n",
    "bar4 = ax[1][1].bar(top_10_D4.index,top_10_D4.Count, width)\n",
    "bar5 = ax[2][0].bar(top_10_D5.index,top_10_D5.Count, width)\n",
    "bar6 = ax[2][1].bar(top_10_D6.index,top_10_D6.Count, width)\n",
    "bar7 = ax[3][0].bar(top_10_D7.index,top_10_D7.Count, width)\n",
    "bar8 = ax[3][1].bar(top_10_D8.index,top_10_D8.Count, width)\n",
    "ax[0][0].set_ylabel('Count')\n",
    "ax[0][1].set_ylabel('Count')\n",
    "ax[1][0].set_ylabel('Count')\n",
    "ax[1][1].set_ylabel('Count')\n",
    "ax[2][0].set_ylabel('Count')\n",
    "ax[2][1].set_ylabel('Count')\n",
    "ax[3][0].set_ylabel('Count')\n",
    "ax[3][1].set_ylabel('Count')\n",
    "ax[3][0].set_xlabel('Result_Position')\n",
    "ax[3][1].set_xlabel('Result_Position')\n",
    "ax[0][0].set_title(\"Day 1\")\n",
    "ax[0][1].set_title(\"Day 2\")\n",
    "ax[1][0].set_title(\"Day 3\")\n",
    "ax[1][1].set_title(\"Day 4\")\n",
    "ax[2][0].set_title(\"Day 5\")\n",
    "ax[2][1].set_title(\"Day 6\")\n",
    "ax[3][0].set_title(\"Day 7\")\n",
    "ax[3][1].set_title(\"Day 8\")\n",
    "fig.suptitle(\"Frequency of Clicks vs Result Position Across Days\");"
   ]
  },
  {
   "cell_type": "markdown",
   "metadata": {},
   "source": [
    "# 3. What is the daily overall zero results rate? How does it vary between the groups?"
   ]
  },
  {
   "cell_type": "markdown",
   "metadata": {},
   "source": [
    "#### Overall Zero Results Rate"
   ]
  },
  {
   "cell_type": "code",
   "execution_count": 137,
   "metadata": {},
   "outputs": [
    {
     "name": "stdout",
     "output_type": "stream",
     "text": [
      "The Overall Zero Results Rate is 0.1845\n"
     ]
    }
   ],
   "source": [
    "#Day 01\n",
    "ZRR_01 = (len(data[(data.action == 'searchResultPage') & (data.n_results == 0) & (data.day == 1)]))/(len(data[(data.action == 'searchResultPage') & (data.day == 1)]))\n",
    "#Day 02\n",
    "ZRR_02 = (len(data[(data.action == 'searchResultPage') & (data.n_results == 0) & (data.day == 2)]))/(len(data[(data.action == 'searchResultPage') & (data.day == 2)]))\n",
    "#Day 03\n",
    "ZRR_03 = (len(data[(data.action == 'searchResultPage') & (data.n_results == 0) & (data.day == 3)]))/(len(data[(data.action == 'searchResultPage') & (data.day == 3)]))\n",
    "#Day 04\n",
    "ZRR_04 = (len(data[(data.action == 'searchResultPage') & (data.n_results == 0) & (data.day == 4)]))/(len(data[(data.action == 'searchResultPage') & (data.day == 4)]))\n",
    "#Day 05\n",
    "ZRR_05 = (len(data[(data.action == 'searchResultPage') & (data.n_results == 0) & (data.day == 5)]))/(len(data[(data.action == 'searchResultPage') & (data.day == 5)]))\n",
    "#Day 06\n",
    "ZRR_06 = (len(data[(data.action == 'searchResultPage') & (data.n_results == 0) & (data.day == 6)]))/(len(data[(data.action == 'searchResultPage') & (data.day == 6)]))\n",
    "#Day 07\n",
    "ZRR_07 = (len(data[(data.action == 'searchResultPage') & (data.n_results == 0) & (data.day == 7)]))/(len(data[(data.action == 'searchResultPage') & (data.day == 7)]))\n",
    "#Day 08\n",
    "ZRR_08 = (len(data[(data.action == 'searchResultPage') & (data.n_results == 0) & (data.day == 8)]))/(len(data[(data.action == 'searchResultPage') & (data.day == 8)]))\n",
    "\n",
    "ZRR_arr = [round(ZRR_01,3),round(ZRR_02,3),round(ZRR_03,3),round(ZRR_04,3),round(ZRR_05,3),round(ZRR_06,3),round(ZRR_07,3),round(ZRR_08,3)]\n",
    "ZRR_daily = np.average(ZRR_arr)\n",
    "\n",
    "print(\"The Overall Zero Results Rate is %s\" % ZRR_daily)"
   ]
  },
  {
   "cell_type": "markdown",
   "metadata": {},
   "source": [
    "#### Plot: ZRR across all the days"
   ]
  },
  {
   "cell_type": "code",
   "execution_count": 138,
   "metadata": {},
   "outputs": [
    {
     "data": {
      "image/png": "[encoded data removed]",
      "text/plain": [
       "<Figure size 720x360 with 1 Axes>"
      ]
     },
     "metadata": {},
     "output_type": "display_data"
    }
   ],
   "source": [
    "y=[\"01-03-2016\",\"02-03-2016\",\"03-03-2016\",\"04-03-2016\",\"05-03-2016\",\"06-03-2016\",\"07-03-2016\",\"08-03-2016\"]\n",
    "width = 0.55\n",
    "fig, ax = plt.subplots(figsize=(10, 5))\n",
    "rects = ax.bar(y,ZRR_arr,width)\n",
    "ax.set_ylabel('Zero Results Rate ')\n",
    "ax.set_title('ZRR across the Days')\n",
    "ax.set_xlabel('Days')\n",
    "\n",
    "def autolabel(rects):\n",
    "    \"\"\"Attach a text label above each bar in *rects*, displaying its height.\"\"\"\n",
    "    for rect in rects:\n",
    "        height = rect.get_height()\n",
    "        ax.annotate('{}'.format(height),\n",
    "                    xy=(rect.get_x() + rect.get_width() / 2, height),\n",
    "                    xytext=(0, 3),  # 3 points vertical offset\n",
    "                    textcoords=\"offset points\",\n",
    "                    ha='center', va='bottom')\n",
    "\n",
    "autolabel(rects);"
   ]
  },
  {
   "cell_type": "markdown",
   "metadata": {},
   "source": [
    "#### Zero Rate Results Between the two Groups"
   ]
  },
  {
   "cell_type": "code",
   "execution_count": 139,
   "metadata": {},
   "outputs": [
    {
     "name": "stdout",
     "output_type": "stream",
     "text": [
      "Zero Results Rate for Group A Overall is 12.407\n",
      "Zero Results Rate for Group B Overall is 6.037\n",
      "Percentage of ZRR for Group A is 67.245\n",
      "Percentage of ZRR for Group B is 32.723\n"
     ]
    }
   ],
   "source": [
    "ZRR_A = (len(data[(data.action == 'searchResultPage') & (data.n_results == 0) & (data.group == 'a')]))/(len(data[data.action == 'searchResultPage']))\n",
    "\n",
    "ZRR_B = (len(data[(data.action == 'searchResultPage') & (data.n_results == 0) & (data.group == 'b')]))/(len(data[data.action == 'searchResultPage']))\n",
    "\n",
    "print(\"Zero Results Rate for Group A Overall is %s\" % round(ZRR_A*100,3))\n",
    "print(\"Zero Results Rate for Group B Overall is %s\" % round(ZRR_B*100,3))\n",
    "print(\"Percentage of ZRR for Group A is %s\" % round((ZRR_A/ZRR_daily)*100,3))\n",
    "print(\"Percentage of ZRR for Group B is %s\" % round((ZRR_B/ZRR_daily)*100,3))"
   ]
  },
  {
   "cell_type": "markdown",
   "metadata": {},
   "source": [
    "# 4. Let *session length* be approximately the time between the first event and the last event in a session. Choose a variable from the dataset and describe its relationship to session length. Visualize the relationship."
   ]
  },
  {
   "cell_type": "markdown",
   "metadata": {},
   "source": [
    "Looking at the dataframe *data*, we see there can be two ways to estimate session length - 1._timestamp_ & 2._checkin_\n",
    "But before that, we have to define our first and last events. If a user searches for a page and remains there/refreshes \n",
    "the same page continuosly for x hours, that user doesn't add value to our product (in this case the website). Thus,\n",
    "tracking should start as soon as the user clicks on a link on the visitPage. So, our __First event__ should be visitPage & \n",
    "__Last event__ should be the last checkin. \n",
    "Like mentioned before, we can calculate approximate time between the two events by taking the timestamp difference of them\n",
    "respectively from the _timestamp_ column.\n",
    "But, to make it easier, we already have __checkin__ feature. For a particular session (*session_id*), we can check the last event and \n",
    "get the corresponding checkin value as the approximate sessions length. For NaN values, session length is 0.\n"
   ]
  },
  {
   "cell_type": "markdown",
   "metadata": {},
   "source": [
    "#### Session Length as a Dataframe for all Sessions"
   ]
  },
  {
   "cell_type": "code",
   "execution_count": 140,
   "metadata": {},
   "outputs": [
    {
     "data": {
      "text/html": [
       "<div>\n",
       "<style scoped>\n",
       "    .dataframe tbody tr th:only-of-type {\n",
       "        vertical-align: middle;\n",
       "    }\n",
       "\n",
       "    .dataframe tbody tr th {\n",
       "        vertical-align: top;\n",
       "    }\n",
       "\n",
       "    .dataframe thead th {\n",
       "        text-align: right;\n",
       "    }\n",
       "</style>\n",
       "<table border=\"1\" class=\"dataframe\">\n",
       "  <thead>\n",
       "    <tr style=\"text-align: right;\">\n",
       "      <th></th>\n",
       "      <th>Index</th>\n",
       "      <th>action</th>\n",
       "      <th>timestamp</th>\n",
       "      <th>checkin</th>\n",
       "    </tr>\n",
       "    <tr>\n",
       "      <th>session_id</th>\n",
       "      <th>session_id</th>\n",
       "      <th></th>\n",
       "      <th></th>\n",
       "      <th></th>\n",
       "    </tr>\n",
       "  </thead>\n",
       "  <tbody>\n",
       "    <tr>\n",
       "      <th>0000cbcb67c19c45</th>\n",
       "      <th>0000cbcb67c19c45</th>\n",
       "      <td>searchResultPage</td>\n",
       "      <td>2016-03-03 15:20:45</td>\n",
       "      <td>NaN</td>\n",
       "    </tr>\n",
       "    <tr>\n",
       "      <th rowspan=\"15\" valign=\"top\">0001382e027b2ea4</th>\n",
       "      <th>0001382e027b2ea4</th>\n",
       "      <td>searchResultPage</td>\n",
       "      <td>2016-03-07 08:49:55</td>\n",
       "      <td>NaN</td>\n",
       "    </tr>\n",
       "    <tr>\n",
       "      <th>0001382e027b2ea4</th>\n",
       "      <td>visitPage</td>\n",
       "      <td>2016-03-07 08:49:58</td>\n",
       "      <td>NaN</td>\n",
       "    </tr>\n",
       "    <tr>\n",
       "      <th>0001382e027b2ea4</th>\n",
       "      <td>checkin</td>\n",
       "      <td>2016-03-07 08:50:08</td>\n",
       "      <td>10.0</td>\n",
       "    </tr>\n",
       "    <tr>\n",
       "      <th>0001382e027b2ea4</th>\n",
       "      <td>checkin</td>\n",
       "      <td>2016-03-07 08:50:18</td>\n",
       "      <td>20.0</td>\n",
       "    </tr>\n",
       "    <tr>\n",
       "      <th>0001382e027b2ea4</th>\n",
       "      <td>checkin</td>\n",
       "      <td>2016-03-07 08:50:28</td>\n",
       "      <td>30.0</td>\n",
       "    </tr>\n",
       "    <tr>\n",
       "      <th>0001382e027b2ea4</th>\n",
       "      <td>checkin</td>\n",
       "      <td>2016-03-07 08:50:38</td>\n",
       "      <td>40.0</td>\n",
       "    </tr>\n",
       "    <tr>\n",
       "      <th>0001382e027b2ea4</th>\n",
       "      <td>checkin</td>\n",
       "      <td>2016-03-07 08:50:48</td>\n",
       "      <td>50.0</td>\n",
       "    </tr>\n",
       "    <tr>\n",
       "      <th>0001382e027b2ea4</th>\n",
       "      <td>checkin</td>\n",
       "      <td>2016-03-07 08:50:58</td>\n",
       "      <td>60.0</td>\n",
       "    </tr>\n",
       "    <tr>\n",
       "      <th>0001382e027b2ea4</th>\n",
       "      <td>checkin</td>\n",
       "      <td>2016-03-07 08:51:28</td>\n",
       "      <td>90.0</td>\n",
       "    </tr>\n",
       "    <tr>\n",
       "      <th>0001382e027b2ea4</th>\n",
       "      <td>checkin</td>\n",
       "      <td>2016-03-07 08:51:58</td>\n",
       "      <td>120.0</td>\n",
       "    </tr>\n",
       "    <tr>\n",
       "      <th>0001382e027b2ea4</th>\n",
       "      <td>checkin</td>\n",
       "      <td>2016-03-07 08:52:28</td>\n",
       "      <td>150.0</td>\n",
       "    </tr>\n",
       "    <tr>\n",
       "      <th>0001382e027b2ea4</th>\n",
       "      <td>checkin</td>\n",
       "      <td>2016-03-07 08:52:58</td>\n",
       "      <td>180.0</td>\n",
       "    </tr>\n",
       "    <tr>\n",
       "      <th>0001382e027b2ea4</th>\n",
       "      <td>checkin</td>\n",
       "      <td>2016-03-07 08:53:28</td>\n",
       "      <td>210.0</td>\n",
       "    </tr>\n",
       "    <tr>\n",
       "      <th>0001382e027b2ea4</th>\n",
       "      <td>checkin</td>\n",
       "      <td>2016-03-07 08:53:58</td>\n",
       "      <td>240.0</td>\n",
       "    </tr>\n",
       "    <tr>\n",
       "      <th>0001382e027b2ea4</th>\n",
       "      <td>checkin</td>\n",
       "      <td>2016-03-07 08:54:58</td>\n",
       "      <td>300.0</td>\n",
       "    </tr>\n",
       "    <tr>\n",
       "      <th rowspan=\"9\" valign=\"top\">0001e8bb90445cb2</th>\n",
       "      <th>0001e8bb90445cb2</th>\n",
       "      <td>searchResultPage</td>\n",
       "      <td>2016-03-05 09:24:15</td>\n",
       "      <td>NaN</td>\n",
       "    </tr>\n",
       "    <tr>\n",
       "      <th>0001e8bb90445cb2</th>\n",
       "      <td>visitPage</td>\n",
       "      <td>2016-03-05 09:24:30</td>\n",
       "      <td>NaN</td>\n",
       "    </tr>\n",
       "    <tr>\n",
       "      <th>0001e8bb90445cb2</th>\n",
       "      <td>checkin</td>\n",
       "      <td>2016-03-05 09:24:40</td>\n",
       "      <td>10.0</td>\n",
       "    </tr>\n",
       "    <tr>\n",
       "      <th>0001e8bb90445cb2</th>\n",
       "      <td>checkin</td>\n",
       "      <td>2016-03-05 09:24:50</td>\n",
       "      <td>20.0</td>\n",
       "    </tr>\n",
       "    <tr>\n",
       "      <th>0001e8bb90445cb2</th>\n",
       "      <td>checkin</td>\n",
       "      <td>2016-03-05 09:25:00</td>\n",
       "      <td>30.0</td>\n",
       "    </tr>\n",
       "    <tr>\n",
       "      <th>0001e8bb90445cb2</th>\n",
       "      <td>checkin</td>\n",
       "      <td>2016-03-05 09:25:10</td>\n",
       "      <td>40.0</td>\n",
       "    </tr>\n",
       "    <tr>\n",
       "      <th>0001e8bb90445cb2</th>\n",
       "      <td>checkin</td>\n",
       "      <td>2016-03-05 09:25:20</td>\n",
       "      <td>50.0</td>\n",
       "    </tr>\n",
       "    <tr>\n",
       "      <th>0001e8bb90445cb2</th>\n",
       "      <td>checkin</td>\n",
       "      <td>2016-03-05 09:25:30</td>\n",
       "      <td>60.0</td>\n",
       "    </tr>\n",
       "    <tr>\n",
       "      <th>0001e8bb90445cb2</th>\n",
       "      <td>checkin</td>\n",
       "      <td>2016-03-05 09:26:00</td>\n",
       "      <td>90.0</td>\n",
       "    </tr>\n",
       "  </tbody>\n",
       "</table>\n",
       "</div>"
      ],
      "text/plain": [
       "Index                                        action           timestamp  \\\n",
       "session_id       session_id                                               \n",
       "0000cbcb67c19c45 0000cbcb67c19c45  searchResultPage 2016-03-03 15:20:45   \n",
       "0001382e027b2ea4 0001382e027b2ea4  searchResultPage 2016-03-07 08:49:55   \n",
       "                 0001382e027b2ea4         visitPage 2016-03-07 08:49:58   \n",
       "                 0001382e027b2ea4           checkin 2016-03-07 08:50:08   \n",
       "                 0001382e027b2ea4           checkin 2016-03-07 08:50:18   \n",
       "                 0001382e027b2ea4           checkin 2016-03-07 08:50:28   \n",
       "                 0001382e027b2ea4           checkin 2016-03-07 08:50:38   \n",
       "                 0001382e027b2ea4           checkin 2016-03-07 08:50:48   \n",
       "                 0001382e027b2ea4           checkin 2016-03-07 08:50:58   \n",
       "                 0001382e027b2ea4           checkin 2016-03-07 08:51:28   \n",
       "                 0001382e027b2ea4           checkin 2016-03-07 08:51:58   \n",
       "                 0001382e027b2ea4           checkin 2016-03-07 08:52:28   \n",
       "                 0001382e027b2ea4           checkin 2016-03-07 08:52:58   \n",
       "                 0001382e027b2ea4           checkin 2016-03-07 08:53:28   \n",
       "                 0001382e027b2ea4           checkin 2016-03-07 08:53:58   \n",
       "                 0001382e027b2ea4           checkin 2016-03-07 08:54:58   \n",
       "0001e8bb90445cb2 0001e8bb90445cb2  searchResultPage 2016-03-05 09:24:15   \n",
       "                 0001e8bb90445cb2         visitPage 2016-03-05 09:24:30   \n",
       "                 0001e8bb90445cb2           checkin 2016-03-05 09:24:40   \n",
       "                 0001e8bb90445cb2           checkin 2016-03-05 09:24:50   \n",
       "                 0001e8bb90445cb2           checkin 2016-03-05 09:25:00   \n",
       "                 0001e8bb90445cb2           checkin 2016-03-05 09:25:10   \n",
       "                 0001e8bb90445cb2           checkin 2016-03-05 09:25:20   \n",
       "                 0001e8bb90445cb2           checkin 2016-03-05 09:25:30   \n",
       "                 0001e8bb90445cb2           checkin 2016-03-05 09:26:00   \n",
       "\n",
       "Index                              checkin  \n",
       "session_id       session_id                 \n",
       "0000cbcb67c19c45 0000cbcb67c19c45      NaN  \n",
       "0001382e027b2ea4 0001382e027b2ea4      NaN  \n",
       "                 0001382e027b2ea4      NaN  \n",
       "                 0001382e027b2ea4     10.0  \n",
       "                 0001382e027b2ea4     20.0  \n",
       "                 0001382e027b2ea4     30.0  \n",
       "                 0001382e027b2ea4     40.0  \n",
       "                 0001382e027b2ea4     50.0  \n",
       "                 0001382e027b2ea4     60.0  \n",
       "                 0001382e027b2ea4     90.0  \n",
       "                 0001382e027b2ea4    120.0  \n",
       "                 0001382e027b2ea4    150.0  \n",
       "                 0001382e027b2ea4    180.0  \n",
       "                 0001382e027b2ea4    210.0  \n",
       "                 0001382e027b2ea4    240.0  \n",
       "                 0001382e027b2ea4    300.0  \n",
       "0001e8bb90445cb2 0001e8bb90445cb2      NaN  \n",
       "                 0001e8bb90445cb2      NaN  \n",
       "                 0001e8bb90445cb2     10.0  \n",
       "                 0001e8bb90445cb2     20.0  \n",
       "                 0001e8bb90445cb2     30.0  \n",
       "                 0001e8bb90445cb2     40.0  \n",
       "                 0001e8bb90445cb2     50.0  \n",
       "                 0001e8bb90445cb2     60.0  \n",
       "                 0001e8bb90445cb2     90.0  "
      ]
     },
     "execution_count": 140,
     "metadata": {},
     "output_type": "execute_result"
    }
   ],
   "source": [
    "session_length_df = data[['session_id','action','timestamp','checkin']].sort_values('timestamp').groupby('session_id').apply(lambda x: x.set_index('session_id').rename_axis('Index',axis = 1))\n",
    "session_length_df.head(25)"
   ]
  },
  {
   "cell_type": "markdown",
   "metadata": {},
   "source": [
    "# 5. Summarize your findings in an *executive summary*."
   ]
  },
  {
   "attachments": {
    "image.png": {
     "image/png": "[encoded data removed]"
    }
   },
   "cell_type": "markdown",
   "metadata": {},
   "source": [
    "The Dataset that was provided was clean and didnot require much preprocessing. \n",
    "The Dataset consisted of events logged between _01-03-2016_ and _08-03-2016_. \n",
    "\n",
    "\n",
    "For tracking purpose and better understand user behaviour, A/B testing was implemented. Thus, the users were divided into two\n",
    "groups: *A* & _B_.\n",
    "\n",
    "Tracking was done right from when a new search is performed and the user is shown a SERP to user clicking a link in the results and then remaining on the page for a pre-specified amount of time.\n",
    "\n",
    "The _Daily Overall Click Through Rate_ was estimated to be 19.45%. \n",
    "The CTR across the eight days was fairly similar, without much difference. On 06-03-2016, CTR was found to be more than 20%.\n",
    "CTR varied greatly between the two groups. For Group A, we saw CTR to be fairly consistent and above 20% on all days. The highest being 22.4% on 01-03-2016. For Group B, we saw CTR was less than 15% for the first three days. But it showed an increasing trend and in the next five days, we found the CTR to be above 15%. For Group B, the highest CTR was achieved on 05-03-2016 and it was found to be 17.6%. Despite Group B showing an increasing trend, Group A's CTR was more on all days.\n",
    "\n",
    "While analyzing which links users usually click, we found 65% users clicked on the 1st link with the next highest being the 2nd link with 14%. The rate of clicks drastically decreases as the result position increases. Thus, Frequency of Clicks is _inversely proportional_ to the result position. \n",
    "We can see the same trend across all the days individually as well as for both the groups. 67% of Group A users preferred 1st link where as 64% of Group B preferred the 1st link\n",
    "![image.png](attachment:image.png)\n"
   ]
  },
  {
   "attachments": {
    "image.png": {
     "image/png": "[encoded data removed]"
    }
   },
   "cell_type": "markdown",
   "metadata": {},
   "source": [
    "The _Overall Daily Zero Rate Results_ was found to be 18.4%. It was more or less the same across all the days.Group A accounted for 67.3% of the ZRR and Group B the rest 32.7%.\n",
    "\n",
    "![image.png](attachment:image.png)\n"
   ]
  },
  {
   "attachments": {
    "image.png": {
     "image/png": "[encoded data removed]"
    }
   },
   "cell_type": "markdown",
   "metadata": {},
   "source": [
    "The Session Length is visualized as per the below diagram:\n",
    "\n",
    "![image.png](attachment:image.png)\n"
   ]
  }
 ],
 "metadata": {
  "kernelspec": {
   "display_name": "Python 3",
   "language": "python",
   "name": "python3"
  },
  "language_info": {
   "codemirror_mode": {
    "name": "ipython",
    "version": 3
   },
   "file_extension": ".py",
   "mimetype": "text/x-python",
   "name": "python",
   "nbconvert_exporter": "python",
   "pygments_lexer": "ipython3",
   "version": "3.7.0"
  }
 },
 "nbformat": 4,
 "nbformat_minor": 2
}
